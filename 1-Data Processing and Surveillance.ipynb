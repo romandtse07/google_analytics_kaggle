{
 "cells": [
  {
   "cell_type": "markdown",
   "metadata": {},
   "source": [
    "# Initial Data Survey\n",
    "\n",
    "In this notebook, we describe the structure of the data, much of the attention given to dealing with the json columns given through Google Analytics.  Initial considerations are given to the possible relationships between features and producing transactions.  The goal here is ultimately twofold: first and foremost, to consider what business-wide activities can help predict how much a user spends on the store; and second, to try and gain any immediate insights we might consider independent of modeling, whether they are finally used in our regressor or not."
   ]
  },
  {
   "cell_type": "markdown",
   "metadata": {},
   "source": [
    "## Setting up the SQL Database\n",
    "\n",
    "The process of creating a database for the competition data is briefly described below.  First, a database was instantiated using postgresql.  Note to self: the database must be restarted using postgres -D /usr/local/var/postgres from the terminal on startup.  The table schema are then defined as follows:"
   ]
  },
  {
   "cell_type": "code",
   "execution_count": 2,
   "metadata": {},
   "outputs": [],
   "source": [
    "import pandas as pd\n",
    "import sqlalchemy\n",
    "import pickle\n",
    "import numpy as np\n",
    "import matplotlib.pyplot as plt\n",
    "import seaborn as sns\n",
    "\n",
    "%matplotlib inline"
   ]
  },
  {
   "cell_type": "code",
   "execution_count": 2,
   "metadata": {},
   "outputs": [],
   "source": [
    "with open('credentials.txt') as f:\n",
    "    path = f.read()"
   ]
  },
  {
   "cell_type": "code",
   "execution_count": 3,
   "metadata": {},
   "outputs": [],
   "source": [
    "#the connection should be modified if run on any other machine.  Saved database locally to work offline.\n",
    "with open('credentials.txt') as f:\n",
    "    path = f.readln()\n",
    "\n",
    "engine = sqlalchemy.create_engine(path)"
   ]
  },
  {
   "cell_type": "code",
   "execution_count": null,
   "metadata": {},
   "outputs": [],
   "source": [
    "engine.execute(\"\"\"\n",
    "    CREATE TABLE train_data(\n",
    "        channelGrouping TEXT,\n",
    "        date INTEGER,\n",
    "        device JSONB,\n",
    "        fullVisitorId TEXT,\n",
    "        geoNetwork JSONB,\n",
    "        sessionId TEXT,\n",
    "        socialEngagementType TEXT,\n",
    "        totals JSONB,\n",
    "        trafficSource JSONB,\n",
    "        visitId INTEGER,\n",
    "        visitNumber INTEGER,\n",
    "        visitStartTime INTEGER\n",
    "    );\n",
    "\"\"\")"
   ]
  },
  {
   "cell_type": "code",
   "execution_count": null,
   "metadata": {},
   "outputs": [],
   "source": [
    "engine.execute(\"\"\"\n",
    "    CREATE TABLE test_data(\n",
    "        channelGrouping TEXT,\n",
    "        date INTEGER,\n",
    "        device JSONB,\n",
    "        fullVisitorId TEXT,\n",
    "        geoNetwork JSONB,\n",
    "        sessionId TEXT,\n",
    "        socialEngagementType TEXT,\n",
    "        totals JSONB,\n",
    "        trafficSource JSONB,\n",
    "        visitId INTEGER,\n",
    "        visitNumber INTEGER,\n",
    "        visitStartTime INTEGER\n",
    "    );\n",
    "\"\"\")"
   ]
  },
  {
   "cell_type": "markdown",
   "metadata": {},
   "source": [
    "PgLoader was then used to fill the tables.  Docutmentation can be found [here](https://pgloader.readthedocs.io/en/latest/tutorial/tutorial.html#pgloader-quick-start).  The direct links for the [training](https://www.kaggle.com/c/ga-customer-revenue-prediction/download/train.csv) and [testing](https://www.kaggle.com/c/ga-customer-revenue-prediction/download/test.csv) datasets are also provided here.  No keys were defined in the table, as none of the tables needed to be joined.  However, an index was provided below to at least identify a unique row, with the intention of possibly speeding up queries later."
   ]
  },
  {
   "cell_type": "code",
   "execution_count": null,
   "metadata": {},
   "outputs": [],
   "source": [
    "engine.execute(\"\"\"\n",
    "    CREATE INDEX train_usr_sess ON train_data (fullVisitorId, visitNumber)\n",
    "\"\"\")"
   ]
  },
  {
   "cell_type": "code",
   "execution_count": null,
   "metadata": {},
   "outputs": [],
   "source": [
    "engine.execute(\"\"\"\n",
    "    CREATE INDEX test_usr_sess ON test_data (fullVisitorId, visitNumber)\n",
    "\"\"\")"
   ]
  },
  {
   "cell_type": "code",
   "execution_count": null,
   "metadata": {},
   "outputs": [],
   "source": [
    "engine.execute(\"\"\"\n",
    "    DROP TYPE devicetype;\n",
    "    DROP TYPE geotype;\n",
    "    DROP TYPE totalstype;\n",
    "    DROP TYPE traffictype;\n",
    "\"\"\")"
   ]
  },
  {
   "cell_type": "code",
   "execution_count": null,
   "metadata": {},
   "outputs": [],
   "source": [
    "engine.execute(\"\"\"\n",
    "    CREATE TYPE devicetype AS (deviceCategory TEXT, isMobile BOOL, browser TEXT, operatingSystem TEXT);\n",
    "    CREATE TYPE geotype AS (city TEXT, continent TEXT, country TEXT, metro TEXT, networkDomain TEXT, region TEXT, subContinent TEXT);\n",
    "    CREATE TYPE totalstype AS (visits INT, hits INT, pageviews INT, newVisits INT, bounces NUMERIC, transactionRevenue INT);\n",
    "    CREATE TYPE traffictype AS (adContent TEXT, adwordsClickInfo JSONB, campaign TEXT, campaignCode TEXT, isTrueDirect BOOL, keyword TEXT, medium TEXT, referralPath TEXT, source TEXT);\n",
    "\"\"\")"
   ]
  },
  {
   "cell_type": "markdown",
   "metadata": {},
   "source": [
    "## Values for Outermost String Features\n",
    "\n",
    "Several useful queries for later analysis are listed here.  The unique values for channel grouping are retroactively added here to list all possible dummy columns, while the unique values for jsons are found later."
   ]
  },
  {
   "cell_type": "code",
   "execution_count": 4,
   "metadata": {},
   "outputs": [],
   "source": [
    "query = \"\"\"\n",
    "    SELECT DISTINCT channelGrouping\n",
    "    FROM train_data\n",
    "\"\"\"\n",
    "\n",
    "channel_groups = pd.read_sql_query(query, engine)"
   ]
  },
  {
   "cell_type": "code",
   "execution_count": 5,
   "metadata": {},
   "outputs": [],
   "source": [
    "with open('./pickles/channel_groups.pkl', 'wb') as f:\n",
    "    pickle.dump(channel_groups, f)"
   ]
  },
  {
   "cell_type": "code",
   "execution_count": 6,
   "metadata": {},
   "outputs": [],
   "source": [
    "query = \"\"\"\n",
    "    SELECT DISTINCT fullVisitorId\n",
    "    FROM train_data\n",
    "\"\"\"\n",
    "\n",
    "train_ids = pd.read_sql_query(query, engine)"
   ]
  },
  {
   "cell_type": "code",
   "execution_count": 7,
   "metadata": {},
   "outputs": [],
   "source": [
    "with open('./pickles/train_ids.pkl', 'wb') as f:\n",
    "    pickle.dump(train_ids, f)"
   ]
  },
  {
   "cell_type": "code",
   "execution_count": 8,
   "metadata": {},
   "outputs": [
    {
     "data": {
      "text/plain": [
       "(714167, 1)"
      ]
     },
     "execution_count": 8,
     "metadata": {},
     "output_type": "execute_result"
    }
   ],
   "source": [
    "train_ids.shape"
   ]
  },
  {
   "cell_type": "code",
   "execution_count": 9,
   "metadata": {},
   "outputs": [
    {
     "data": {
      "text/html": [
       "<div>\n",
       "<style scoped>\n",
       "    .dataframe tbody tr th:only-of-type {\n",
       "        vertical-align: middle;\n",
       "    }\n",
       "\n",
       "    .dataframe tbody tr th {\n",
       "        vertical-align: top;\n",
       "    }\n",
       "\n",
       "    .dataframe thead th {\n",
       "        text-align: right;\n",
       "    }\n",
       "</style>\n",
       "<table border=\"1\" class=\"dataframe\">\n",
       "  <thead>\n",
       "    <tr style=\"text-align: right;\">\n",
       "      <th></th>\n",
       "      <th>count</th>\n",
       "    </tr>\n",
       "  </thead>\n",
       "  <tbody>\n",
       "    <tr>\n",
       "      <th>0</th>\n",
       "      <td>903653</td>\n",
       "    </tr>\n",
       "  </tbody>\n",
       "</table>\n",
       "</div>"
      ],
      "text/plain": [
       "    count\n",
       "0  903653"
      ]
     },
     "execution_count": 9,
     "metadata": {},
     "output_type": "execute_result"
    }
   ],
   "source": [
    "query = \"\"\"\n",
    "    SELECT COUNT(fullVisitorId)\n",
    "    FROM train_data\n",
    "\"\"\"\n",
    "\n",
    "pd.read_sql_query(query, engine)"
   ]
  },
  {
   "cell_type": "markdown",
   "metadata": {},
   "source": [
    "There are 714,167 unique visitor ids in the training data.  However, there are only 903,635 interactions ever recorded; on average, that would amount to less than two interactions per user.  There is a strong case, then, that we should treat each session as independent, or else we would have trouble predicting on users with no previous history.  However, the notion that future behavior of a user is largely influenced by past behavior is difficult to ignore.  For now, we just note that we predict on different users in the test set, though there are many returning users as well.  The consequences of the approach we should take in creating a model to predict generated revenue, and especially how we evaluate the model's value given the inconsistency in sample treatment, are discussed further in a later notebook."
   ]
  },
  {
   "cell_type": "code",
   "execution_count": 10,
   "metadata": {},
   "outputs": [],
   "source": [
    "query = \"\"\"\n",
    "    SELECT DISTINCT fullVisitorId\n",
    "    FROM test_data\n",
    "\"\"\"\n",
    "\n",
    "test_ids = pd.read_sql_query(query, engine)"
   ]
  },
  {
   "cell_type": "code",
   "execution_count": 11,
   "metadata": {},
   "outputs": [
    {
     "data": {
      "text/plain": [
       "(617242, 1)"
      ]
     },
     "execution_count": 11,
     "metadata": {},
     "output_type": "execute_result"
    }
   ],
   "source": [
    "test_ids.shape"
   ]
  },
  {
   "cell_type": "code",
   "execution_count": 12,
   "metadata": {},
   "outputs": [],
   "source": [
    "with open('./pickles/test_ids.pkl', 'wb') as f:\n",
    "    pickle.dump(test_ids, f)"
   ]
  },
  {
   "cell_type": "code",
   "execution_count": 13,
   "metadata": {},
   "outputs": [
    {
     "data": {
      "text/plain": [
       "7679"
      ]
     },
     "execution_count": 13,
     "metadata": {},
     "output_type": "execute_result"
    }
   ],
   "source": [
    "#transpose to format\n",
    "len(set(list(test_ids.T.values[0])).intersection(list(set(train_ids.T.values[0]))))"
   ]
  },
  {
   "cell_type": "markdown",
   "metadata": {},
   "source": [
    "## Listing the JSON columns\n",
    "\n",
    "Here, we search for all possible fields that can be embedded in .  Abscence of a value in most cases simply implies the abscence of a tag.  The exception is in the channel grouping feature, where 'Direct' implies the abscence of a tag.  More information on these can be found in the readme.  We begin by enumerating the possible values for quick reference in future inquiries."
   ]
  },
  {
   "cell_type": "code",
   "execution_count": 14,
   "metadata": {},
   "outputs": [
    {
     "data": {
      "text/html": [
       "<div>\n",
       "<style scoped>\n",
       "    .dataframe tbody tr th:only-of-type {\n",
       "        vertical-align: middle;\n",
       "    }\n",
       "\n",
       "    .dataframe tbody tr th {\n",
       "        vertical-align: top;\n",
       "    }\n",
       "\n",
       "    .dataframe thead th {\n",
       "        text-align: right;\n",
       "    }\n",
       "</style>\n",
       "<table border=\"1\" class=\"dataframe\">\n",
       "  <thead>\n",
       "    <tr style=\"text-align: right;\">\n",
       "      <th></th>\n",
       "      <th>device</th>\n",
       "    </tr>\n",
       "  </thead>\n",
       "  <tbody>\n",
       "    <tr>\n",
       "      <th>0</th>\n",
       "      <td>screenResolution</td>\n",
       "    </tr>\n",
       "    <tr>\n",
       "      <th>1</th>\n",
       "      <td>deviceCategory</td>\n",
       "    </tr>\n",
       "    <tr>\n",
       "      <th>2</th>\n",
       "      <td>isMobile</td>\n",
       "    </tr>\n",
       "    <tr>\n",
       "      <th>3</th>\n",
       "      <td>browserSize</td>\n",
       "    </tr>\n",
       "    <tr>\n",
       "      <th>4</th>\n",
       "      <td>mobileInputSelector</td>\n",
       "    </tr>\n",
       "    <tr>\n",
       "      <th>5</th>\n",
       "      <td>flashVersion</td>\n",
       "    </tr>\n",
       "    <tr>\n",
       "      <th>6</th>\n",
       "      <td>browser</td>\n",
       "    </tr>\n",
       "    <tr>\n",
       "      <th>7</th>\n",
       "      <td>operatingSystem</td>\n",
       "    </tr>\n",
       "    <tr>\n",
       "      <th>8</th>\n",
       "      <td>mobileDeviceMarketingName</td>\n",
       "    </tr>\n",
       "    <tr>\n",
       "      <th>9</th>\n",
       "      <td>browserVersion</td>\n",
       "    </tr>\n",
       "    <tr>\n",
       "      <th>10</th>\n",
       "      <td>operatingSystemVersion</td>\n",
       "    </tr>\n",
       "    <tr>\n",
       "      <th>11</th>\n",
       "      <td>mobileDeviceModel</td>\n",
       "    </tr>\n",
       "    <tr>\n",
       "      <th>12</th>\n",
       "      <td>screenColors</td>\n",
       "    </tr>\n",
       "    <tr>\n",
       "      <th>13</th>\n",
       "      <td>language</td>\n",
       "    </tr>\n",
       "    <tr>\n",
       "      <th>14</th>\n",
       "      <td>mobileDeviceInfo</td>\n",
       "    </tr>\n",
       "    <tr>\n",
       "      <th>15</th>\n",
       "      <td>mobileDeviceBranding</td>\n",
       "    </tr>\n",
       "  </tbody>\n",
       "</table>\n",
       "</div>"
      ],
      "text/plain": [
       "                       device\n",
       "0            screenResolution\n",
       "1              deviceCategory\n",
       "2                    isMobile\n",
       "3                 browserSize\n",
       "4         mobileInputSelector\n",
       "5                flashVersion\n",
       "6                     browser\n",
       "7             operatingSystem\n",
       "8   mobileDeviceMarketingName\n",
       "9              browserVersion\n",
       "10     operatingSystemVersion\n",
       "11          mobileDeviceModel\n",
       "12               screenColors\n",
       "13                   language\n",
       "14           mobileDeviceInfo\n",
       "15       mobileDeviceBranding"
      ]
     },
     "execution_count": 14,
     "metadata": {},
     "output_type": "execute_result"
    }
   ],
   "source": [
    "query = \"\"\"\n",
    "SELECT DISTINCT jsonb_object_keys(device) AS device\n",
    "FROM train_data\n",
    "\"\"\"\n",
    "pd.read_sql_query(query, engine)"
   ]
  },
  {
   "cell_type": "code",
   "execution_count": 15,
   "metadata": {},
   "outputs": [
    {
     "data": {
      "text/html": [
       "<div>\n",
       "<style scoped>\n",
       "    .dataframe tbody tr th:only-of-type {\n",
       "        vertical-align: middle;\n",
       "    }\n",
       "\n",
       "    .dataframe tbody tr th {\n",
       "        vertical-align: top;\n",
       "    }\n",
       "\n",
       "    .dataframe thead th {\n",
       "        text-align: right;\n",
       "    }\n",
       "</style>\n",
       "<table border=\"1\" class=\"dataframe\">\n",
       "  <thead>\n",
       "    <tr style=\"text-align: right;\">\n",
       "      <th></th>\n",
       "      <th>geonetwork</th>\n",
       "    </tr>\n",
       "  </thead>\n",
       "  <tbody>\n",
       "    <tr>\n",
       "      <th>0</th>\n",
       "      <td>city</td>\n",
       "    </tr>\n",
       "    <tr>\n",
       "      <th>1</th>\n",
       "      <td>cityId</td>\n",
       "    </tr>\n",
       "    <tr>\n",
       "      <th>2</th>\n",
       "      <td>continent</td>\n",
       "    </tr>\n",
       "    <tr>\n",
       "      <th>3</th>\n",
       "      <td>country</td>\n",
       "    </tr>\n",
       "    <tr>\n",
       "      <th>4</th>\n",
       "      <td>latitude</td>\n",
       "    </tr>\n",
       "    <tr>\n",
       "      <th>5</th>\n",
       "      <td>longitude</td>\n",
       "    </tr>\n",
       "    <tr>\n",
       "      <th>6</th>\n",
       "      <td>metro</td>\n",
       "    </tr>\n",
       "    <tr>\n",
       "      <th>7</th>\n",
       "      <td>networkDomain</td>\n",
       "    </tr>\n",
       "    <tr>\n",
       "      <th>8</th>\n",
       "      <td>networkLocation</td>\n",
       "    </tr>\n",
       "    <tr>\n",
       "      <th>9</th>\n",
       "      <td>region</td>\n",
       "    </tr>\n",
       "    <tr>\n",
       "      <th>10</th>\n",
       "      <td>subContinent</td>\n",
       "    </tr>\n",
       "  </tbody>\n",
       "</table>\n",
       "</div>"
      ],
      "text/plain": [
       "         geonetwork\n",
       "0              city\n",
       "1            cityId\n",
       "2         continent\n",
       "3           country\n",
       "4          latitude\n",
       "5         longitude\n",
       "6             metro\n",
       "7     networkDomain\n",
       "8   networkLocation\n",
       "9            region\n",
       "10     subContinent"
      ]
     },
     "execution_count": 15,
     "metadata": {},
     "output_type": "execute_result"
    }
   ],
   "source": [
    "query = \"\"\"\n",
    "SELECT DISTINCT jsonb_object_keys(geoNetwork) AS geoNetwork\n",
    "FROM train_data\n",
    "\"\"\"\n",
    "pd.read_sql_query(query, engine)"
   ]
  },
  {
   "cell_type": "code",
   "execution_count": 16,
   "metadata": {},
   "outputs": [
    {
     "data": {
      "text/html": [
       "<div>\n",
       "<style scoped>\n",
       "    .dataframe tbody tr th:only-of-type {\n",
       "        vertical-align: middle;\n",
       "    }\n",
       "\n",
       "    .dataframe tbody tr th {\n",
       "        vertical-align: top;\n",
       "    }\n",
       "\n",
       "    .dataframe thead th {\n",
       "        text-align: right;\n",
       "    }\n",
       "</style>\n",
       "<table border=\"1\" class=\"dataframe\">\n",
       "  <thead>\n",
       "    <tr style=\"text-align: right;\">\n",
       "      <th></th>\n",
       "      <th>totals</th>\n",
       "    </tr>\n",
       "  </thead>\n",
       "  <tbody>\n",
       "    <tr>\n",
       "      <th>0</th>\n",
       "      <td>bounces</td>\n",
       "    </tr>\n",
       "    <tr>\n",
       "      <th>1</th>\n",
       "      <td>hits</td>\n",
       "    </tr>\n",
       "    <tr>\n",
       "      <th>2</th>\n",
       "      <td>newVisits</td>\n",
       "    </tr>\n",
       "    <tr>\n",
       "      <th>3</th>\n",
       "      <td>pageviews</td>\n",
       "    </tr>\n",
       "    <tr>\n",
       "      <th>4</th>\n",
       "      <td>transactionRevenue</td>\n",
       "    </tr>\n",
       "    <tr>\n",
       "      <th>5</th>\n",
       "      <td>visits</td>\n",
       "    </tr>\n",
       "  </tbody>\n",
       "</table>\n",
       "</div>"
      ],
      "text/plain": [
       "               totals\n",
       "0             bounces\n",
       "1                hits\n",
       "2           newVisits\n",
       "3           pageviews\n",
       "4  transactionRevenue\n",
       "5              visits"
      ]
     },
     "execution_count": 16,
     "metadata": {},
     "output_type": "execute_result"
    }
   ],
   "source": [
    "query = \"\"\"\n",
    "SELECT DISTINCT jsonb_object_keys(totals) AS totals\n",
    "FROM train_data\n",
    "\"\"\"\n",
    "\n",
    "pd.read_sql_query(query, engine)"
   ]
  },
  {
   "cell_type": "code",
   "execution_count": 17,
   "metadata": {},
   "outputs": [
    {
     "data": {
      "text/html": [
       "<div>\n",
       "<style scoped>\n",
       "    .dataframe tbody tr th:only-of-type {\n",
       "        vertical-align: middle;\n",
       "    }\n",
       "\n",
       "    .dataframe tbody tr th {\n",
       "        vertical-align: top;\n",
       "    }\n",
       "\n",
       "    .dataframe thead th {\n",
       "        text-align: right;\n",
       "    }\n",
       "</style>\n",
       "<table border=\"1\" class=\"dataframe\">\n",
       "  <thead>\n",
       "    <tr style=\"text-align: right;\">\n",
       "      <th></th>\n",
       "      <th>trafficsource</th>\n",
       "    </tr>\n",
       "  </thead>\n",
       "  <tbody>\n",
       "    <tr>\n",
       "      <th>0</th>\n",
       "      <td>adContent</td>\n",
       "    </tr>\n",
       "    <tr>\n",
       "      <th>1</th>\n",
       "      <td>adwordsClickInfo</td>\n",
       "    </tr>\n",
       "    <tr>\n",
       "      <th>2</th>\n",
       "      <td>campaign</td>\n",
       "    </tr>\n",
       "    <tr>\n",
       "      <th>3</th>\n",
       "      <td>campaignCode</td>\n",
       "    </tr>\n",
       "    <tr>\n",
       "      <th>4</th>\n",
       "      <td>isTrueDirect</td>\n",
       "    </tr>\n",
       "    <tr>\n",
       "      <th>5</th>\n",
       "      <td>keyword</td>\n",
       "    </tr>\n",
       "    <tr>\n",
       "      <th>6</th>\n",
       "      <td>medium</td>\n",
       "    </tr>\n",
       "    <tr>\n",
       "      <th>7</th>\n",
       "      <td>referralPath</td>\n",
       "    </tr>\n",
       "    <tr>\n",
       "      <th>8</th>\n",
       "      <td>source</td>\n",
       "    </tr>\n",
       "  </tbody>\n",
       "</table>\n",
       "</div>"
      ],
      "text/plain": [
       "      trafficsource\n",
       "0         adContent\n",
       "1  adwordsClickInfo\n",
       "2          campaign\n",
       "3      campaignCode\n",
       "4      isTrueDirect\n",
       "5           keyword\n",
       "6            medium\n",
       "7      referralPath\n",
       "8            source"
      ]
     },
     "execution_count": 17,
     "metadata": {},
     "output_type": "execute_result"
    }
   ],
   "source": [
    "query = \"\"\"\n",
    "SELECT DISTINCT jsonb_object_keys(trafficSource)  AS trafficSource\n",
    "FROM train_data\n",
    "\"\"\"\n",
    "\n",
    "pd.read_sql_query(query, engine)"
   ]
  },
  {
   "cell_type": "markdown",
   "metadata": {},
   "source": [
    "The adwords click info is further embedded in the traffic source column as a json.  We look at the fields here."
   ]
  },
  {
   "cell_type": "code",
   "execution_count": 18,
   "metadata": {},
   "outputs": [],
   "source": [
    "query = \"\"\"\n",
    "SELECT DISTINCT jsonb_object_keys(CAST(trafficSource ->> 'adwordsClickInfo' AS JSONB))\n",
    "FROM test_data\n",
    "\"\"\"\n",
    "\n",
    "adwordsClickInfo_keys = pd.read_sql_query(query, engine)"
   ]
  },
  {
   "cell_type": "code",
   "execution_count": 19,
   "metadata": {},
   "outputs": [
    {
     "data": {
      "text/html": [
       "<div>\n",
       "<style scoped>\n",
       "    .dataframe tbody tr th:only-of-type {\n",
       "        vertical-align: middle;\n",
       "    }\n",
       "\n",
       "    .dataframe tbody tr th {\n",
       "        vertical-align: top;\n",
       "    }\n",
       "\n",
       "    .dataframe thead th {\n",
       "        text-align: right;\n",
       "    }\n",
       "</style>\n",
       "<table border=\"1\" class=\"dataframe\">\n",
       "  <thead>\n",
       "    <tr style=\"text-align: right;\">\n",
       "      <th></th>\n",
       "      <th>jsonb_object_keys</th>\n",
       "    </tr>\n",
       "  </thead>\n",
       "  <tbody>\n",
       "    <tr>\n",
       "      <th>0</th>\n",
       "      <td>adNetworkType</td>\n",
       "    </tr>\n",
       "    <tr>\n",
       "      <th>1</th>\n",
       "      <td>criteriaParameters</td>\n",
       "    </tr>\n",
       "    <tr>\n",
       "      <th>2</th>\n",
       "      <td>gclId</td>\n",
       "    </tr>\n",
       "    <tr>\n",
       "      <th>3</th>\n",
       "      <td>isVideoAd</td>\n",
       "    </tr>\n",
       "    <tr>\n",
       "      <th>4</th>\n",
       "      <td>page</td>\n",
       "    </tr>\n",
       "    <tr>\n",
       "      <th>5</th>\n",
       "      <td>slot</td>\n",
       "    </tr>\n",
       "    <tr>\n",
       "      <th>6</th>\n",
       "      <td>targetingCriteria</td>\n",
       "    </tr>\n",
       "  </tbody>\n",
       "</table>\n",
       "</div>"
      ],
      "text/plain": [
       "    jsonb_object_keys\n",
       "0       adNetworkType\n",
       "1  criteriaParameters\n",
       "2               gclId\n",
       "3           isVideoAd\n",
       "4                page\n",
       "5                slot\n",
       "6   targetingCriteria"
      ]
     },
     "execution_count": 19,
     "metadata": {},
     "output_type": "execute_result"
    }
   ],
   "source": [
    "adwordsClickInfo_keys"
   ]
  },
  {
   "cell_type": "markdown",
   "metadata": {},
   "source": [
    "## General Relationships with Transaction Revenue\n",
    "\n",
    "First, we explore some relevant single feature relationships here within the jsons, including the sum of all revenues for a given feature, the average amount of a conversion given that it took place, and the percent chance that such an interaction would occur."
   ]
  },
  {
   "cell_type": "code",
   "execution_count": 20,
   "metadata": {},
   "outputs": [],
   "source": [
    "def transactionSummary(cat, subcat):\n",
    "    query = f\"\"\"\n",
    "    SELECT {cat} ->> '{subcat}' AS {subcat}, \n",
    "        COUNT(COALESCE({cat} ->> '{subcat}', 'None')) AS {subcat}Count, \n",
    "        SUM(CAST(totals ->> 'transactionRevenue' AS NUMERIC))/10^6 AS transactionSum,\n",
    "        ROUND(AVG(CAST(totals ->> 'transactionRevenue' AS NUMERIC))/10^6) AS transactionAvg,\n",
    "        COUNT(CAST(totals ->> 'transactionRevenue' AS NUMERIC)) AS transactionCount\n",
    "    FROM train_data\n",
    "    GROUP BY {cat} ->> '{subcat}'\n",
    "    \"\"\"\n",
    "\n",
    "    return pd.read_sql_query(query, engine).assign(conversionPct = lambda df: round(100*df.transactioncount/df.iloc[:,1],2))"
   ]
  },
  {
   "cell_type": "code",
   "execution_count": 21,
   "metadata": {},
   "outputs": [
    {
     "data": {
      "text/html": [
       "<div>\n",
       "<style scoped>\n",
       "    .dataframe tbody tr th:only-of-type {\n",
       "        vertical-align: middle;\n",
       "    }\n",
       "\n",
       "    .dataframe tbody tr th {\n",
       "        vertical-align: top;\n",
       "    }\n",
       "\n",
       "    .dataframe thead th {\n",
       "        text-align: right;\n",
       "    }\n",
       "</style>\n",
       "<table border=\"1\" class=\"dataframe\">\n",
       "  <thead>\n",
       "    <tr style=\"text-align: right;\">\n",
       "      <th></th>\n",
       "      <th>adcontent</th>\n",
       "      <th>adcontentcount</th>\n",
       "      <th>transactionsum</th>\n",
       "      <th>transactionavg</th>\n",
       "      <th>transactioncount</th>\n",
       "      <th>conversionPct</th>\n",
       "    </tr>\n",
       "  </thead>\n",
       "  <tbody>\n",
       "    <tr>\n",
       "      <th>0</th>\n",
       "      <td>20% discount</td>\n",
       "      <td>75</td>\n",
       "      <td>83.42</td>\n",
       "      <td>42.0</td>\n",
       "      <td>2</td>\n",
       "      <td>2.67</td>\n",
       "    </tr>\n",
       "    <tr>\n",
       "      <th>1</th>\n",
       "      <td>Ad from 11/3/16</td>\n",
       "      <td>489</td>\n",
       "      <td>NaN</td>\n",
       "      <td>NaN</td>\n",
       "      <td>0</td>\n",
       "      <td>0.00</td>\n",
       "    </tr>\n",
       "    <tr>\n",
       "      <th>2</th>\n",
       "      <td>Ad from 11/7/16</td>\n",
       "      <td>123</td>\n",
       "      <td>NaN</td>\n",
       "      <td>NaN</td>\n",
       "      <td>0</td>\n",
       "      <td>0.00</td>\n",
       "    </tr>\n",
       "    <tr>\n",
       "      <th>3</th>\n",
       "      <td>Ad from 12/13/16</td>\n",
       "      <td>610</td>\n",
       "      <td>NaN</td>\n",
       "      <td>NaN</td>\n",
       "      <td>0</td>\n",
       "      <td>0.00</td>\n",
       "    </tr>\n",
       "    <tr>\n",
       "      <th>4</th>\n",
       "      <td>Ad from 2/17/17</td>\n",
       "      <td>3</td>\n",
       "      <td>NaN</td>\n",
       "      <td>NaN</td>\n",
       "      <td>0</td>\n",
       "      <td>0.00</td>\n",
       "    </tr>\n",
       "    <tr>\n",
       "      <th>5</th>\n",
       "      <td>Display Ad created 11/17/14</td>\n",
       "      <td>50</td>\n",
       "      <td>22.95</td>\n",
       "      <td>23.0</td>\n",
       "      <td>1</td>\n",
       "      <td>2.00</td>\n",
       "    </tr>\n",
       "    <tr>\n",
       "      <th>6</th>\n",
       "      <td>Display Ad created 3/11/14</td>\n",
       "      <td>967</td>\n",
       "      <td>302.31</td>\n",
       "      <td>101.0</td>\n",
       "      <td>3</td>\n",
       "      <td>0.31</td>\n",
       "    </tr>\n",
       "    <tr>\n",
       "      <th>7</th>\n",
       "      <td>Display Ad created 3/11/15</td>\n",
       "      <td>392</td>\n",
       "      <td>42.00</td>\n",
       "      <td>42.0</td>\n",
       "      <td>1</td>\n",
       "      <td>0.26</td>\n",
       "    </tr>\n",
       "    <tr>\n",
       "      <th>8</th>\n",
       "      <td>First Full Auto Template Test Ad</td>\n",
       "      <td>87</td>\n",
       "      <td>NaN</td>\n",
       "      <td>NaN</td>\n",
       "      <td>0</td>\n",
       "      <td>0.00</td>\n",
       "    </tr>\n",
       "    <tr>\n",
       "      <th>9</th>\n",
       "      <td>Free Shipping!</td>\n",
       "      <td>2</td>\n",
       "      <td>NaN</td>\n",
       "      <td>NaN</td>\n",
       "      <td>0</td>\n",
       "      <td>0.00</td>\n",
       "    </tr>\n",
       "    <tr>\n",
       "      <th>10</th>\n",
       "      <td>Full auto ad IMAGE ONLY</td>\n",
       "      <td>822</td>\n",
       "      <td>262.38</td>\n",
       "      <td>52.0</td>\n",
       "      <td>5</td>\n",
       "      <td>0.61</td>\n",
       "    </tr>\n",
       "    <tr>\n",
       "      <th>11</th>\n",
       "      <td>Full auto ad NATIVE ONLY</td>\n",
       "      <td>3</td>\n",
       "      <td>NaN</td>\n",
       "      <td>NaN</td>\n",
       "      <td>0</td>\n",
       "      <td>0.00</td>\n",
       "    </tr>\n",
       "    <tr>\n",
       "      <th>12</th>\n",
       "      <td>Full auto ad TEXT ONLY</td>\n",
       "      <td>16</td>\n",
       "      <td>NaN</td>\n",
       "      <td>NaN</td>\n",
       "      <td>0</td>\n",
       "      <td>0.00</td>\n",
       "    </tr>\n",
       "    <tr>\n",
       "      <th>13</th>\n",
       "      <td>Full auto ad TEXT/NATIVE</td>\n",
       "      <td>7</td>\n",
       "      <td>NaN</td>\n",
       "      <td>NaN</td>\n",
       "      <td>0</td>\n",
       "      <td>0.00</td>\n",
       "    </tr>\n",
       "    <tr>\n",
       "      <th>14</th>\n",
       "      <td>Full auto ad with Primary Color</td>\n",
       "      <td>3</td>\n",
       "      <td>NaN</td>\n",
       "      <td>NaN</td>\n",
       "      <td>0</td>\n",
       "      <td>0.00</td>\n",
       "    </tr>\n",
       "    <tr>\n",
       "      <th>15</th>\n",
       "      <td>GA Help Center</td>\n",
       "      <td>1</td>\n",
       "      <td>NaN</td>\n",
       "      <td>NaN</td>\n",
       "      <td>0</td>\n",
       "      <td>0.00</td>\n",
       "    </tr>\n",
       "    <tr>\n",
       "      <th>16</th>\n",
       "      <td>Google Merchandise</td>\n",
       "      <td>87</td>\n",
       "      <td>NaN</td>\n",
       "      <td>NaN</td>\n",
       "      <td>0</td>\n",
       "      <td>0.00</td>\n",
       "    </tr>\n",
       "    <tr>\n",
       "      <th>17</th>\n",
       "      <td>Google Merchandise Collection</td>\n",
       "      <td>5122</td>\n",
       "      <td>14958.31</td>\n",
       "      <td>128.0</td>\n",
       "      <td>117</td>\n",
       "      <td>2.28</td>\n",
       "    </tr>\n",
       "    <tr>\n",
       "      <th>18</th>\n",
       "      <td>Google Online Store</td>\n",
       "      <td>1245</td>\n",
       "      <td>163.42</td>\n",
       "      <td>41.0</td>\n",
       "      <td>4</td>\n",
       "      <td>0.32</td>\n",
       "    </tr>\n",
       "    <tr>\n",
       "      <th>19</th>\n",
       "      <td>Google Paraphernalia</td>\n",
       "      <td>7</td>\n",
       "      <td>NaN</td>\n",
       "      <td>NaN</td>\n",
       "      <td>0</td>\n",
       "      <td>0.00</td>\n",
       "    </tr>\n",
       "    <tr>\n",
       "      <th>20</th>\n",
       "      <td>Google Store</td>\n",
       "      <td>4</td>\n",
       "      <td>NaN</td>\n",
       "      <td>NaN</td>\n",
       "      <td>0</td>\n",
       "      <td>0.00</td>\n",
       "    </tr>\n",
       "    <tr>\n",
       "      <th>21</th>\n",
       "      <td>Google store</td>\n",
       "      <td>2</td>\n",
       "      <td>NaN</td>\n",
       "      <td>NaN</td>\n",
       "      <td>0</td>\n",
       "      <td>0.00</td>\n",
       "    </tr>\n",
       "    <tr>\n",
       "      <th>22</th>\n",
       "      <td>JD_5a_v1</td>\n",
       "      <td>41</td>\n",
       "      <td>NaN</td>\n",
       "      <td>NaN</td>\n",
       "      <td>0</td>\n",
       "      <td>0.00</td>\n",
       "    </tr>\n",
       "    <tr>\n",
       "      <th>23</th>\n",
       "      <td>LeEco_1a</td>\n",
       "      <td>25</td>\n",
       "      <td>NaN</td>\n",
       "      <td>NaN</td>\n",
       "      <td>0</td>\n",
       "      <td>0.00</td>\n",
       "    </tr>\n",
       "    <tr>\n",
       "      <th>24</th>\n",
       "      <td>Men's-Outerwear Google Apparel</td>\n",
       "      <td>1</td>\n",
       "      <td>NaN</td>\n",
       "      <td>NaN</td>\n",
       "      <td>0</td>\n",
       "      <td>0.00</td>\n",
       "    </tr>\n",
       "    <tr>\n",
       "      <th>25</th>\n",
       "      <td>Official Google Merchandise - Fast Shipping</td>\n",
       "      <td>4</td>\n",
       "      <td>NaN</td>\n",
       "      <td>NaN</td>\n",
       "      <td>0</td>\n",
       "      <td>0.00</td>\n",
       "    </tr>\n",
       "    <tr>\n",
       "      <th>26</th>\n",
       "      <td>Swag w/ Google Logos</td>\n",
       "      <td>1</td>\n",
       "      <td>NaN</td>\n",
       "      <td>NaN</td>\n",
       "      <td>0</td>\n",
       "      <td>0.00</td>\n",
       "    </tr>\n",
       "    <tr>\n",
       "      <th>27</th>\n",
       "      <td>Swag with Google Logos</td>\n",
       "      <td>64</td>\n",
       "      <td>34.46</td>\n",
       "      <td>11.0</td>\n",
       "      <td>3</td>\n",
       "      <td>4.69</td>\n",
       "    </tr>\n",
       "    <tr>\n",
       "      <th>28</th>\n",
       "      <td>Want Google Sunglasses</td>\n",
       "      <td>8</td>\n",
       "      <td>NaN</td>\n",
       "      <td>NaN</td>\n",
       "      <td>0</td>\n",
       "      <td>0.00</td>\n",
       "    </tr>\n",
       "    <tr>\n",
       "      <th>29</th>\n",
       "      <td>free shipping</td>\n",
       "      <td>3</td>\n",
       "      <td>NaN</td>\n",
       "      <td>NaN</td>\n",
       "      <td>0</td>\n",
       "      <td>0.00</td>\n",
       "    </tr>\n",
       "    <tr>\n",
       "      <th>30</th>\n",
       "      <td>google store</td>\n",
       "      <td>1</td>\n",
       "      <td>NaN</td>\n",
       "      <td>NaN</td>\n",
       "      <td>0</td>\n",
       "      <td>0.00</td>\n",
       "    </tr>\n",
       "    <tr>\n",
       "      <th>31</th>\n",
       "      <td>url_builder</td>\n",
       "      <td>3</td>\n",
       "      <td>NaN</td>\n",
       "      <td>NaN</td>\n",
       "      <td>0</td>\n",
       "      <td>0.00</td>\n",
       "    </tr>\n",
       "    <tr>\n",
       "      <th>32</th>\n",
       "      <td>visit us again</td>\n",
       "      <td>1</td>\n",
       "      <td>NaN</td>\n",
       "      <td>NaN</td>\n",
       "      <td>0</td>\n",
       "      <td>0.00</td>\n",
       "    </tr>\n",
       "    <tr>\n",
       "      <th>33</th>\n",
       "      <td>{KeyWord:Google Brand Items}</td>\n",
       "      <td>251</td>\n",
       "      <td>NaN</td>\n",
       "      <td>NaN</td>\n",
       "      <td>0</td>\n",
       "      <td>0.00</td>\n",
       "    </tr>\n",
       "    <tr>\n",
       "      <th>34</th>\n",
       "      <td>{KeyWord:Google Branded Apparel}</td>\n",
       "      <td>10</td>\n",
       "      <td>NaN</td>\n",
       "      <td>NaN</td>\n",
       "      <td>0</td>\n",
       "      <td>0.00</td>\n",
       "    </tr>\n",
       "    <tr>\n",
       "      <th>35</th>\n",
       "      <td>{KeyWord:Google Branded Gear}</td>\n",
       "      <td>67</td>\n",
       "      <td>224.24</td>\n",
       "      <td>75.0</td>\n",
       "      <td>3</td>\n",
       "      <td>4.48</td>\n",
       "    </tr>\n",
       "    <tr>\n",
       "      <th>36</th>\n",
       "      <td>{KeyWord:Google Branded Kit}</td>\n",
       "      <td>16</td>\n",
       "      <td>NaN</td>\n",
       "      <td>NaN</td>\n",
       "      <td>0</td>\n",
       "      <td>0.00</td>\n",
       "    </tr>\n",
       "    <tr>\n",
       "      <th>37</th>\n",
       "      <td>{KeyWord:Google Branded Outerwear}</td>\n",
       "      <td>5</td>\n",
       "      <td>NaN</td>\n",
       "      <td>NaN</td>\n",
       "      <td>0</td>\n",
       "      <td>0.00</td>\n",
       "    </tr>\n",
       "    <tr>\n",
       "      <th>38</th>\n",
       "      <td>{KeyWord:Google Drinkware}</td>\n",
       "      <td>32</td>\n",
       "      <td>14.95</td>\n",
       "      <td>15.0</td>\n",
       "      <td>1</td>\n",
       "      <td>3.12</td>\n",
       "    </tr>\n",
       "    <tr>\n",
       "      <th>39</th>\n",
       "      <td>{KeyWord:Google Men's T-Shirts}</td>\n",
       "      <td>30</td>\n",
       "      <td>77.82</td>\n",
       "      <td>78.0</td>\n",
       "      <td>1</td>\n",
       "      <td>3.33</td>\n",
       "    </tr>\n",
       "    <tr>\n",
       "      <th>40</th>\n",
       "      <td>{KeyWord:Google Merchandise}</td>\n",
       "      <td>155</td>\n",
       "      <td>NaN</td>\n",
       "      <td>NaN</td>\n",
       "      <td>0</td>\n",
       "      <td>0.00</td>\n",
       "    </tr>\n",
       "    <tr>\n",
       "      <th>41</th>\n",
       "      <td>{KeyWord:Looking for Google Bags?}</td>\n",
       "      <td>65</td>\n",
       "      <td>NaN</td>\n",
       "      <td>NaN</td>\n",
       "      <td>0</td>\n",
       "      <td>0.00</td>\n",
       "    </tr>\n",
       "    <tr>\n",
       "      <th>42</th>\n",
       "      <td>{KeyWord:Want Google Pet Toys?}</td>\n",
       "      <td>4</td>\n",
       "      <td>NaN</td>\n",
       "      <td>NaN</td>\n",
       "      <td>0</td>\n",
       "      <td>0.00</td>\n",
       "    </tr>\n",
       "    <tr>\n",
       "      <th>43</th>\n",
       "      <td>{KeyWord:Want Google Stickers?}</td>\n",
       "      <td>42</td>\n",
       "      <td>22.44</td>\n",
       "      <td>11.0</td>\n",
       "      <td>2</td>\n",
       "      <td>4.76</td>\n",
       "    </tr>\n",
       "    <tr>\n",
       "      <th>44</th>\n",
       "      <td>None</td>\n",
       "      <td>892707</td>\n",
       "      <td>1523862.54</td>\n",
       "      <td>134.0</td>\n",
       "      <td>11372</td>\n",
       "      <td>1.27</td>\n",
       "    </tr>\n",
       "  </tbody>\n",
       "</table>\n",
       "</div>"
      ],
      "text/plain": [
       "                                      adcontent  adcontentcount  \\\n",
       "0                                  20% discount              75   \n",
       "1                               Ad from 11/3/16             489   \n",
       "2                               Ad from 11/7/16             123   \n",
       "3                              Ad from 12/13/16             610   \n",
       "4                               Ad from 2/17/17               3   \n",
       "5                   Display Ad created 11/17/14              50   \n",
       "6                    Display Ad created 3/11/14             967   \n",
       "7                    Display Ad created 3/11/15             392   \n",
       "8              First Full Auto Template Test Ad              87   \n",
       "9                                Free Shipping!               2   \n",
       "10                      Full auto ad IMAGE ONLY             822   \n",
       "11                     Full auto ad NATIVE ONLY               3   \n",
       "12                       Full auto ad TEXT ONLY              16   \n",
       "13                     Full auto ad TEXT/NATIVE               7   \n",
       "14              Full auto ad with Primary Color               3   \n",
       "15                               GA Help Center               1   \n",
       "16                           Google Merchandise              87   \n",
       "17                Google Merchandise Collection            5122   \n",
       "18                          Google Online Store            1245   \n",
       "19                         Google Paraphernalia               7   \n",
       "20                                 Google Store               4   \n",
       "21                                 Google store               2   \n",
       "22                                     JD_5a_v1              41   \n",
       "23                                     LeEco_1a              25   \n",
       "24               Men's-Outerwear Google Apparel               1   \n",
       "25  Official Google Merchandise - Fast Shipping               4   \n",
       "26                         Swag w/ Google Logos               1   \n",
       "27                       Swag with Google Logos              64   \n",
       "28                       Want Google Sunglasses               8   \n",
       "29                                free shipping               3   \n",
       "30                                 google store               1   \n",
       "31                                  url_builder               3   \n",
       "32                               visit us again               1   \n",
       "33                 {KeyWord:Google Brand Items}             251   \n",
       "34             {KeyWord:Google Branded Apparel}              10   \n",
       "35                {KeyWord:Google Branded Gear}              67   \n",
       "36                 {KeyWord:Google Branded Kit}              16   \n",
       "37           {KeyWord:Google Branded Outerwear}               5   \n",
       "38                   {KeyWord:Google Drinkware}              32   \n",
       "39              {KeyWord:Google Men's T-Shirts}              30   \n",
       "40                 {KeyWord:Google Merchandise}             155   \n",
       "41           {KeyWord:Looking for Google Bags?}              65   \n",
       "42              {KeyWord:Want Google Pet Toys?}               4   \n",
       "43              {KeyWord:Want Google Stickers?}              42   \n",
       "44                                         None          892707   \n",
       "\n",
       "    transactionsum  transactionavg  transactioncount  conversionPct  \n",
       "0            83.42            42.0                 2           2.67  \n",
       "1              NaN             NaN                 0           0.00  \n",
       "2              NaN             NaN                 0           0.00  \n",
       "3              NaN             NaN                 0           0.00  \n",
       "4              NaN             NaN                 0           0.00  \n",
       "5            22.95            23.0                 1           2.00  \n",
       "6           302.31           101.0                 3           0.31  \n",
       "7            42.00            42.0                 1           0.26  \n",
       "8              NaN             NaN                 0           0.00  \n",
       "9              NaN             NaN                 0           0.00  \n",
       "10          262.38            52.0                 5           0.61  \n",
       "11             NaN             NaN                 0           0.00  \n",
       "12             NaN             NaN                 0           0.00  \n",
       "13             NaN             NaN                 0           0.00  \n",
       "14             NaN             NaN                 0           0.00  \n",
       "15             NaN             NaN                 0           0.00  \n",
       "16             NaN             NaN                 0           0.00  \n",
       "17        14958.31           128.0               117           2.28  \n",
       "18          163.42            41.0                 4           0.32  \n",
       "19             NaN             NaN                 0           0.00  \n",
       "20             NaN             NaN                 0           0.00  \n",
       "21             NaN             NaN                 0           0.00  \n",
       "22             NaN             NaN                 0           0.00  \n",
       "23             NaN             NaN                 0           0.00  \n",
       "24             NaN             NaN                 0           0.00  \n",
       "25             NaN             NaN                 0           0.00  \n",
       "26             NaN             NaN                 0           0.00  \n",
       "27           34.46            11.0                 3           4.69  \n",
       "28             NaN             NaN                 0           0.00  \n",
       "29             NaN             NaN                 0           0.00  \n",
       "30             NaN             NaN                 0           0.00  \n",
       "31             NaN             NaN                 0           0.00  \n",
       "32             NaN             NaN                 0           0.00  \n",
       "33             NaN             NaN                 0           0.00  \n",
       "34             NaN             NaN                 0           0.00  \n",
       "35          224.24            75.0                 3           4.48  \n",
       "36             NaN             NaN                 0           0.00  \n",
       "37             NaN             NaN                 0           0.00  \n",
       "38           14.95            15.0                 1           3.12  \n",
       "39           77.82            78.0                 1           3.33  \n",
       "40             NaN             NaN                 0           0.00  \n",
       "41             NaN             NaN                 0           0.00  \n",
       "42             NaN             NaN                 0           0.00  \n",
       "43           22.44            11.0                 2           4.76  \n",
       "44      1523862.54           134.0             11372           1.27  "
      ]
     },
     "execution_count": 21,
     "metadata": {},
     "output_type": "execute_result"
    }
   ],
   "source": [
    "transactionSummary('trafficSource', 'adContent')"
   ]
  },
  {
   "cell_type": "markdown",
   "metadata": {},
   "source": [
    "First, we find that any interaction through an ad is exceedingly rare.  The Google Merchandise Collection ad has a fair number of conversions, and boasts a higher conversion rate over no ad at all by a factor of two, while the average transaction amount is the same order of magnitude.  It remains to be seen whether this feature could help our model."
   ]
  },
  {
   "cell_type": "code",
   "execution_count": 22,
   "metadata": {},
   "outputs": [
    {
     "data": {
      "text/html": [
       "<div>\n",
       "<style scoped>\n",
       "    .dataframe tbody tr th:only-of-type {\n",
       "        vertical-align: middle;\n",
       "    }\n",
       "\n",
       "    .dataframe tbody tr th {\n",
       "        vertical-align: top;\n",
       "    }\n",
       "\n",
       "    .dataframe thead th {\n",
       "        text-align: right;\n",
       "    }\n",
       "</style>\n",
       "<table border=\"1\" class=\"dataframe\">\n",
       "  <thead>\n",
       "    <tr style=\"text-align: right;\">\n",
       "      <th></th>\n",
       "      <th>istruedirect</th>\n",
       "      <th>istruedirectcount</th>\n",
       "      <th>transactionsum</th>\n",
       "      <th>transactionavg</th>\n",
       "      <th>transactioncount</th>\n",
       "      <th>conversionPct</th>\n",
       "    </tr>\n",
       "  </thead>\n",
       "  <tbody>\n",
       "    <tr>\n",
       "      <th>0</th>\n",
       "      <td>true</td>\n",
       "      <td>274005</td>\n",
       "      <td>1142598.99</td>\n",
       "      <td>163.0</td>\n",
       "      <td>7004</td>\n",
       "      <td>2.56</td>\n",
       "    </tr>\n",
       "    <tr>\n",
       "      <th>1</th>\n",
       "      <td>None</td>\n",
       "      <td>629648</td>\n",
       "      <td>397472.25</td>\n",
       "      <td>88.0</td>\n",
       "      <td>4511</td>\n",
       "      <td>0.72</td>\n",
       "    </tr>\n",
       "  </tbody>\n",
       "</table>\n",
       "</div>"
      ],
      "text/plain": [
       "  istruedirect  istruedirectcount  transactionsum  transactionavg  \\\n",
       "0         true             274005      1142598.99           163.0   \n",
       "1         None             629648       397472.25            88.0   \n",
       "\n",
       "   transactioncount  conversionPct  \n",
       "0              7004           2.56  \n",
       "1              4511           0.72  "
      ]
     },
     "execution_count": 22,
     "metadata": {},
     "output_type": "execute_result"
    }
   ],
   "source": [
    "transactionSummary('trafficSource', 'isTrueDirect')"
   ]
  },
  {
   "cell_type": "markdown",
   "metadata": {},
   "source": [
    "Whether the session is a true direct heavily influences the conversion rate, as well as the average conversion.  These are sessions whose parameters are exactly the same as the previous or are marked as Direct in the channel grouping.  Direct channel groupings are usually attributed to bookmarks or when the URL is typed directly into the browser, though technically these need not be the only direct sources.  For instance, links shared from messages and mails that do not include any tags would mark a visit as direct, though it is a referral in substance.\n",
    "\n",
    "Nevertheless, intuitively we could argue that this should be expected, as direct channel grouping implies a visitor went out of their way to go to a specific store page - this could be a useful model feature, especially for a model that cannot look at all parameters considered to be a true direct."
   ]
  },
  {
   "cell_type": "code",
   "execution_count": 23,
   "metadata": {},
   "outputs": [
    {
     "data": {
      "text/html": [
       "<div>\n",
       "<style scoped>\n",
       "    .dataframe tbody tr th:only-of-type {\n",
       "        vertical-align: middle;\n",
       "    }\n",
       "\n",
       "    .dataframe tbody tr th {\n",
       "        vertical-align: top;\n",
       "    }\n",
       "\n",
       "    .dataframe thead th {\n",
       "        text-align: right;\n",
       "    }\n",
       "</style>\n",
       "<table border=\"1\" class=\"dataframe\">\n",
       "  <thead>\n",
       "    <tr style=\"text-align: right;\">\n",
       "      <th></th>\n",
       "      <th>source</th>\n",
       "      <th>sourcecount</th>\n",
       "      <th>transactionsum</th>\n",
       "      <th>transactionavg</th>\n",
       "      <th>transactioncount</th>\n",
       "      <th>conversionPct</th>\n",
       "    </tr>\n",
       "  </thead>\n",
       "  <tbody>\n",
       "    <tr>\n",
       "      <th>267</th>\n",
       "      <td>mall.googleplex.com</td>\n",
       "      <td>66416</td>\n",
       "      <td>612968.03</td>\n",
       "      <td>120.0</td>\n",
       "      <td>5103</td>\n",
       "      <td>7.68</td>\n",
       "    </tr>\n",
       "    <tr>\n",
       "      <th>117</th>\n",
       "      <td>dealspotr.com</td>\n",
       "      <td>528</td>\n",
       "      <td>5690.64</td>\n",
       "      <td>142.0</td>\n",
       "      <td>40</td>\n",
       "      <td>7.58</td>\n",
       "    </tr>\n",
       "    <tr>\n",
       "      <th>263</th>\n",
       "      <td>mail.google.com</td>\n",
       "      <td>1457</td>\n",
       "      <td>23327.91</td>\n",
       "      <td>376.0</td>\n",
       "      <td>62</td>\n",
       "      <td>4.26</td>\n",
       "    </tr>\n",
       "    <tr>\n",
       "      <th>202</th>\n",
       "      <td>groups.google.com</td>\n",
       "      <td>1025</td>\n",
       "      <td>1631.26</td>\n",
       "      <td>43.0</td>\n",
       "      <td>38</td>\n",
       "      <td>3.71</td>\n",
       "    </tr>\n",
       "    <tr>\n",
       "      <th>120</th>\n",
       "      <td>dfa</td>\n",
       "      <td>5686</td>\n",
       "      <td>76928.42</td>\n",
       "      <td>625.0</td>\n",
       "      <td>123</td>\n",
       "      <td>2.16</td>\n",
       "    </tr>\n",
       "    <tr>\n",
       "      <th>142</th>\n",
       "      <td>gdeals.googleplex.com</td>\n",
       "      <td>1063</td>\n",
       "      <td>2175.54</td>\n",
       "      <td>121.0</td>\n",
       "      <td>18</td>\n",
       "      <td>1.69</td>\n",
       "    </tr>\n",
       "    <tr>\n",
       "      <th>240</th>\n",
       "      <td>l.facebook.com</td>\n",
       "      <td>795</td>\n",
       "      <td>1043.72</td>\n",
       "      <td>80.0</td>\n",
       "      <td>13</td>\n",
       "      <td>1.64</td>\n",
       "    </tr>\n",
       "    <tr>\n",
       "      <th>375</th>\n",
       "      <td>yahoo</td>\n",
       "      <td>1480</td>\n",
       "      <td>1374.96</td>\n",
       "      <td>62.0</td>\n",
       "      <td>22</td>\n",
       "      <td>1.49</td>\n",
       "    </tr>\n",
       "    <tr>\n",
       "      <th>0</th>\n",
       "      <td>(direct)</td>\n",
       "      <td>143028</td>\n",
       "      <td>434840.55</td>\n",
       "      <td>213.0</td>\n",
       "      <td>2042</td>\n",
       "      <td>1.43</td>\n",
       "    </tr>\n",
       "    <tr>\n",
       "      <th>334</th>\n",
       "      <td>sites.google.com</td>\n",
       "      <td>2983</td>\n",
       "      <td>4390.78</td>\n",
       "      <td>105.0</td>\n",
       "      <td>42</td>\n",
       "      <td>1.41</td>\n",
       "    </tr>\n",
       "    <tr>\n",
       "      <th>81</th>\n",
       "      <td>bing</td>\n",
       "      <td>1530</td>\n",
       "      <td>987.72</td>\n",
       "      <td>47.0</td>\n",
       "      <td>21</td>\n",
       "      <td>1.37</td>\n",
       "    </tr>\n",
       "    <tr>\n",
       "      <th>149</th>\n",
       "      <td>google</td>\n",
       "      <td>400788</td>\n",
       "      <td>368965.36</td>\n",
       "      <td>95.0</td>\n",
       "      <td>3879</td>\n",
       "      <td>0.97</td>\n",
       "    </tr>\n",
       "    <tr>\n",
       "      <th>132</th>\n",
       "      <td>facebook.com</td>\n",
       "      <td>2296</td>\n",
       "      <td>1137.67</td>\n",
       "      <td>57.0</td>\n",
       "      <td>20</td>\n",
       "      <td>0.87</td>\n",
       "    </tr>\n",
       "    <tr>\n",
       "      <th>378</th>\n",
       "      <td>youtube.com</td>\n",
       "      <td>212602</td>\n",
       "      <td>314.07</td>\n",
       "      <td>29.0</td>\n",
       "      <td>11</td>\n",
       "      <td>0.01</td>\n",
       "    </tr>\n",
       "  </tbody>\n",
       "</table>\n",
       "</div>"
      ],
      "text/plain": [
       "                    source  sourcecount  transactionsum  transactionavg  \\\n",
       "267    mall.googleplex.com        66416       612968.03           120.0   \n",
       "117          dealspotr.com          528         5690.64           142.0   \n",
       "263        mail.google.com         1457        23327.91           376.0   \n",
       "202      groups.google.com         1025         1631.26            43.0   \n",
       "120                    dfa         5686        76928.42           625.0   \n",
       "142  gdeals.googleplex.com         1063         2175.54           121.0   \n",
       "240         l.facebook.com          795         1043.72            80.0   \n",
       "375                  yahoo         1480         1374.96            62.0   \n",
       "0                 (direct)       143028       434840.55           213.0   \n",
       "334       sites.google.com         2983         4390.78           105.0   \n",
       "81                    bing         1530          987.72            47.0   \n",
       "149                 google       400788       368965.36            95.0   \n",
       "132           facebook.com         2296         1137.67            57.0   \n",
       "378            youtube.com       212602          314.07            29.0   \n",
       "\n",
       "     transactioncount  conversionPct  \n",
       "267              5103           7.68  \n",
       "117                40           7.58  \n",
       "263                62           4.26  \n",
       "202                38           3.71  \n",
       "120               123           2.16  \n",
       "142                18           1.69  \n",
       "240                13           1.64  \n",
       "375                22           1.49  \n",
       "0                2042           1.43  \n",
       "334                42           1.41  \n",
       "81                 21           1.37  \n",
       "149              3879           0.97  \n",
       "132                20           0.87  \n",
       "378                11           0.01  "
      ]
     },
     "execution_count": 23,
     "metadata": {},
     "output_type": "execute_result"
    }
   ],
   "source": [
    "transactionSummary('trafficSource', 'source')\\\n",
    "    .sort_values('conversionPct', ascending=False)\\\n",
    "    .query('transactioncount > 10')\\\n",
    "    .head(20)"
   ]
  },
  {
   "cell_type": "markdown",
   "metadata": {},
   "source": [
    "Referrals coming from facebook mail seems to have a high conversion percent, though mail.googleplex.com is the most promising source by far, in both conversion percent as well as transaction count.  While less prominent in percent conversion, referrals from mail.google.com have an average transaction more than double mail.googleplex.com, resulting in a higher expected transaction amount each visit.  This could be a potential avenue to increase sales by being more aggressive with these referrals; it is unclear how it is currently implemented, though, and if we could press this front at all.  Sources listed as (direct) seems to have a lower conversion percent as compared to above; this argues that the directs defined above are not simply bookmarks or untagged visits, but rather consecutive visits."
   ]
  },
  {
   "cell_type": "code",
   "execution_count": 24,
   "metadata": {},
   "outputs": [],
   "source": [
    "json_cols = ['device', 'geoNetwork', 'totals', 'trafficsource']"
   ]
  },
  {
   "cell_type": "code",
   "execution_count": 25,
   "metadata": {},
   "outputs": [],
   "source": [
    "def getFields(col_name, set_name='train'):\n",
    "    query = f\"\"\"\n",
    "    SELECT DISTINCT jsonb_object_keys({col_name}) AS {col_name}\n",
    "    FROM {set_name}_data\n",
    "    \"\"\"\n",
    "\n",
    "    return pd.read_sql_query(query, engine)"
   ]
  },
  {
   "cell_type": "code",
   "execution_count": 26,
   "metadata": {},
   "outputs": [],
   "source": [
    "json_fields = {set_name:{col_name:getFields(col_name, set_name) for col_name in json_cols} for set_name in ['train','test']}"
   ]
  },
  {
   "cell_type": "code",
   "execution_count": 27,
   "metadata": {},
   "outputs": [
    {
     "name": "stdout",
     "output_type": "stream",
     "text": [
      "set()\n",
      "set()\n",
      "{'transactionRevenue'}\n",
      "{'campaignCode'}\n"
     ]
    }
   ],
   "source": [
    "for column in json_cols:\n",
    "    print(set(json_fields['train'][column].T.values[0]).symmetric_difference(set(json_fields['test'][column].T.values[0])))"
   ]
  },
  {
   "cell_type": "markdown",
   "metadata": {},
   "source": [
    "At the very least, we don't have to worry that some categories appear in the training data without appearing in the testing data besides the target.  There is a campaign code in the training set, but there is only one of these."
   ]
  },
  {
   "cell_type": "code",
   "execution_count": 28,
   "metadata": {},
   "outputs": [
    {
     "data": {
      "text/html": [
       "<div>\n",
       "<style scoped>\n",
       "    .dataframe tbody tr th:only-of-type {\n",
       "        vertical-align: middle;\n",
       "    }\n",
       "\n",
       "    .dataframe tbody tr th {\n",
       "        vertical-align: top;\n",
       "    }\n",
       "\n",
       "    .dataframe thead th {\n",
       "        text-align: right;\n",
       "    }\n",
       "</style>\n",
       "<table border=\"1\" class=\"dataframe\">\n",
       "  <thead>\n",
       "    <tr style=\"text-align: right;\">\n",
       "      <th></th>\n",
       "      <th>campaigncount</th>\n",
       "    </tr>\n",
       "  </thead>\n",
       "  <tbody>\n",
       "    <tr>\n",
       "      <th>0</th>\n",
       "      <td>1</td>\n",
       "    </tr>\n",
       "  </tbody>\n",
       "</table>\n",
       "</div>"
      ],
      "text/plain": [
       "   campaigncount\n",
       "0              1"
      ]
     },
     "execution_count": 28,
     "metadata": {},
     "output_type": "execute_result"
    }
   ],
   "source": [
    "query = \"\"\"\n",
    "    SELECT COUNT(trafficSource ->> 'campaignCode') AS campaignCount\n",
    "    FROM train_data\n",
    "\"\"\"\n",
    "\n",
    "pd.read_sql_query(query, engine)"
   ]
  },
  {
   "cell_type": "code",
   "execution_count": 29,
   "metadata": {},
   "outputs": [],
   "source": [
    "query = \"\"\"\n",
    "SELECT channelGrouping,\n",
    "    CAST(totals ->> 'transactionRevenue' AS NUMERIC)/10^6 AS transactionRevenue\n",
    "FROM train_data\n",
    "\"\"\"\n",
    "\n",
    "channel_summary = pd.read_sql_query(query, engine).fillna(0)"
   ]
  },
  {
   "cell_type": "code",
   "execution_count": 30,
   "metadata": {},
   "outputs": [
    {
     "data": {
      "image/png": "[encoded data removed]",
      "text/plain": [
       "<Figure size 1152x576 with 1 Axes>"
      ]
     },
     "metadata": {},
     "output_type": "display_data"
    }
   ],
   "source": [
    "plt.figure(figsize=(16,8))\n",
    "sns.boxenplot('channelgrouping', 'transactionrevenue', data=channel_summary.query('transactionrevenue > 0'), color='goldenrod')\n",
    "plt.title('Revenue per Channel');"
   ]
  },
  {
   "cell_type": "code",
   "execution_count": 31,
   "metadata": {},
   "outputs": [
    {
     "data": {
      "image/png": "[encoded data removed]",
      "text/plain": [
       "<Figure size 1152x576 with 1 Axes>"
      ]
     },
     "metadata": {},
     "output_type": "display_data"
    }
   ],
   "source": [
    "plt.figure(figsize=(16,8))\n",
    "sns.boxenplot('channelgrouping', 'transactionrevenue', data=channel_summary.query('transactionrevenue > 0'), color='goldenrod')\n",
    "plt.ylim(0,100);\n",
    "plt.title('Revenue per Channel(Zoomed In)');"
   ]
  },
  {
   "cell_type": "markdown",
   "metadata": {},
   "source": [
    "Display ads outside of Google's ad network have the highest median transaction revenue.  This channel also has the largest transaction amounts, though we will see later that this is the contribution of a single outlier user.  The tails of these distributions also vary for each channel grouping.  There seems to be enough variation here that we should consider using these in our model.  The percentage of interactions resulting in a sale seems to come from referrals, however.  The results are futher summarized below:"
   ]
  },
  {
   "cell_type": "code",
   "execution_count": 32,
   "metadata": {},
   "outputs": [],
   "source": [
    "query = \"\"\"\n",
    "SELECT channelGrouping,\n",
    "    COUNT(channelGrouping) as totalCount,\n",
    "    SUM(CAST(totals ->> 'transactionRevenue' AS FLOAT)), \n",
    "    COUNT(CAST(totals ->> 'transactionRevenue' AS FLOAT)), \n",
    "    AVG(CAST(totals ->> 'transactionRevenue' AS FLOAT)),\n",
    "    MIN(CAST(totals ->> 'transactionRevenue' AS FLOAT)),\n",
    "    MAX(CAST(totals ->> 'transactionRevenue' AS FLOAT))\n",
    "FROM train_data\n",
    "GROUP BY channelGrouping\n",
    "\"\"\"\n",
    "\n",
    "channel_summary = pd.read_sql_query(query, engine).assign(conversionPct = lambda df: df[\"count\"]/df.totalcount)"
   ]
  },
  {
   "cell_type": "code",
   "execution_count": 33,
   "metadata": {},
   "outputs": [
    {
     "data": {
      "text/html": [
       "<div>\n",
       "<style scoped>\n",
       "    .dataframe tbody tr th:only-of-type {\n",
       "        vertical-align: middle;\n",
       "    }\n",
       "\n",
       "    .dataframe tbody tr th {\n",
       "        vertical-align: top;\n",
       "    }\n",
       "\n",
       "    .dataframe thead th {\n",
       "        text-align: right;\n",
       "    }\n",
       "</style>\n",
       "<table border=\"1\" class=\"dataframe\">\n",
       "  <thead>\n",
       "    <tr style=\"text-align: right;\">\n",
       "      <th></th>\n",
       "      <th>channelgrouping</th>\n",
       "      <th>totalcount</th>\n",
       "      <th>sum</th>\n",
       "      <th>count</th>\n",
       "      <th>avg</th>\n",
       "      <th>min</th>\n",
       "      <th>max</th>\n",
       "      <th>conversionPct</th>\n",
       "    </tr>\n",
       "  </thead>\n",
       "  <tbody>\n",
       "    <tr>\n",
       "      <th>0</th>\n",
       "      <td>(Other)</td>\n",
       "      <td>120</td>\n",
       "      <td>9.990000e+06</td>\n",
       "      <td>1</td>\n",
       "      <td>9.990000e+06</td>\n",
       "      <td>9990000.0</td>\n",
       "      <td>9.990000e+06</td>\n",
       "      <td>0.008333</td>\n",
       "    </tr>\n",
       "    <tr>\n",
       "      <th>1</th>\n",
       "      <td>Affiliates</td>\n",
       "      <td>16403</td>\n",
       "      <td>5.973800e+08</td>\n",
       "      <td>9</td>\n",
       "      <td>6.637556e+07</td>\n",
       "      <td>6000000.0</td>\n",
       "      <td>2.338500e+08</td>\n",
       "      <td>0.000549</td>\n",
       "    </tr>\n",
       "    <tr>\n",
       "      <th>2</th>\n",
       "      <td>Direct</td>\n",
       "      <td>143026</td>\n",
       "      <td>4.348406e+11</td>\n",
       "      <td>2042</td>\n",
       "      <td>2.129484e+08</td>\n",
       "      <td>10000.0</td>\n",
       "      <td>1.785550e+10</td>\n",
       "      <td>0.014277</td>\n",
       "    </tr>\n",
       "    <tr>\n",
       "      <th>3</th>\n",
       "      <td>Display</td>\n",
       "      <td>6262</td>\n",
       "      <td>7.833746e+10</td>\n",
       "      <td>142</td>\n",
       "      <td>5.516723e+08</td>\n",
       "      <td>990000.0</td>\n",
       "      <td>2.312950e+10</td>\n",
       "      <td>0.022676</td>\n",
       "    </tr>\n",
       "    <tr>\n",
       "      <th>4</th>\n",
       "      <td>Organic Search</td>\n",
       "      <td>381561</td>\n",
       "      <td>3.263805e+11</td>\n",
       "      <td>3438</td>\n",
       "      <td>9.493325e+07</td>\n",
       "      <td>40000.0</td>\n",
       "      <td>6.248750e+09</td>\n",
       "      <td>0.009010</td>\n",
       "    </tr>\n",
       "    <tr>\n",
       "      <th>5</th>\n",
       "      <td>Paid Search</td>\n",
       "      <td>25326</td>\n",
       "      <td>4.355890e+10</td>\n",
       "      <td>468</td>\n",
       "      <td>9.307457e+07</td>\n",
       "      <td>1500000.0</td>\n",
       "      <td>1.523180e+09</td>\n",
       "      <td>0.018479</td>\n",
       "    </tr>\n",
       "    <tr>\n",
       "      <th>6</th>\n",
       "      <td>Referral</td>\n",
       "      <td>104838</td>\n",
       "      <td>6.514299e+11</td>\n",
       "      <td>5311</td>\n",
       "      <td>1.226567e+08</td>\n",
       "      <td>160000.0</td>\n",
       "      <td>8.248800e+09</td>\n",
       "      <td>0.050659</td>\n",
       "    </tr>\n",
       "    <tr>\n",
       "      <th>7</th>\n",
       "      <td>Social</td>\n",
       "      <td>226117</td>\n",
       "      <td>4.916540e+09</td>\n",
       "      <td>104</td>\n",
       "      <td>4.727442e+07</td>\n",
       "      <td>2990000.0</td>\n",
       "      <td>2.279800e+08</td>\n",
       "      <td>0.000460</td>\n",
       "    </tr>\n",
       "  </tbody>\n",
       "</table>\n",
       "</div>"
      ],
      "text/plain": [
       "  channelgrouping  totalcount           sum  count           avg        min  \\\n",
       "0         (Other)         120  9.990000e+06      1  9.990000e+06  9990000.0   \n",
       "1      Affiliates       16403  5.973800e+08      9  6.637556e+07  6000000.0   \n",
       "2          Direct      143026  4.348406e+11   2042  2.129484e+08    10000.0   \n",
       "3         Display        6262  7.833746e+10    142  5.516723e+08   990000.0   \n",
       "4  Organic Search      381561  3.263805e+11   3438  9.493325e+07    40000.0   \n",
       "5     Paid Search       25326  4.355890e+10    468  9.307457e+07  1500000.0   \n",
       "6        Referral      104838  6.514299e+11   5311  1.226567e+08   160000.0   \n",
       "7          Social      226117  4.916540e+09    104  4.727442e+07  2990000.0   \n",
       "\n",
       "            max  conversionPct  \n",
       "0  9.990000e+06       0.008333  \n",
       "1  2.338500e+08       0.000549  \n",
       "2  1.785550e+10       0.014277  \n",
       "3  2.312950e+10       0.022676  \n",
       "4  6.248750e+09       0.009010  \n",
       "5  1.523180e+09       0.018479  \n",
       "6  8.248800e+09       0.050659  \n",
       "7  2.279800e+08       0.000460  "
      ]
     },
     "execution_count": 33,
     "metadata": {},
     "output_type": "execute_result"
    }
   ],
   "source": [
    "channel_summary"
   ]
  },
  {
   "cell_type": "code",
   "execution_count": 34,
   "metadata": {},
   "outputs": [],
   "source": [
    "query = \"\"\"\n",
    "SELECT fullVisitorId, \n",
    "    COUNT(fullVisitorId) AS transactions, \n",
    "    SUM(CAST(totals ->> 'transactionRevenue' AS NUMERIC))/10^6 AS totalRevenue\n",
    "FROM train_data\n",
    "WHERE totals ->> 'transactionRevenue' IS NOT NULL\n",
    "GROUP BY fullVisitorId\n",
    "\"\"\"\n",
    "\n",
    "trans_per_customer = pd.read_sql_query(query, engine)"
   ]
  },
  {
   "cell_type": "code",
   "execution_count": 35,
   "metadata": {},
   "outputs": [
    {
     "data": {
      "text/plain": [
       "(9996, 3)"
      ]
     },
     "execution_count": 35,
     "metadata": {},
     "output_type": "execute_result"
    }
   ],
   "source": [
    "trans_per_customer.shape"
   ]
  },
  {
   "cell_type": "markdown",
   "metadata": {},
   "source": [
    "Of the over seven hundred thousand users, only under ten thousand contribute any revenue.  Further, most of those contributing revenue visits the site only once."
   ]
  },
  {
   "cell_type": "code",
   "execution_count": 36,
   "metadata": {},
   "outputs": [
    {
     "data": {
      "image/png": "[encoded data removed]",
      "text/plain": [
       "<Figure size 1152x576 with 1 Axes>"
      ]
     },
     "metadata": {},
     "output_type": "display_data"
    }
   ],
   "source": [
    "plt.figure(figsize=(16,8))\n",
    "plt.hist(trans_per_customer.transactions, bins=100)\n",
    "plt.title('Histogram: Total Visits per Paying User')\n",
    "plt.xlabel('Total Visits')\n",
    "plt.ylabel('Number of Users');"
   ]
  },
  {
   "cell_type": "code",
   "execution_count": 37,
   "metadata": {},
   "outputs": [
    {
     "data": {
      "text/plain": [
       "33"
      ]
     },
     "execution_count": 37,
     "metadata": {},
     "output_type": "execute_result"
    }
   ],
   "source": [
    "trans_per_customer.transactions.max()"
   ]
  },
  {
   "cell_type": "code",
   "execution_count": 38,
   "metadata": {},
   "outputs": [
    {
     "data": {
      "image/png": "[encoded data removed]",
      "text/plain": [
       "<Figure size 1152x576 with 1 Axes>"
      ]
     },
     "metadata": {},
     "output_type": "display_data"
    }
   ],
   "source": [
    "plt.figure(figsize=(16,8))\n",
    "plt.title('Total Revenue versus Number of Transactions')\n",
    "trans_per_customer.groupby('transactions').totalrevenue.sum().plot(kind='bar', color='goldenrod')\n",
    "plt.ylabel('Total Revenue');"
   ]
  },
  {
   "cell_type": "markdown",
   "metadata": {},
   "source": [
    "The contribution of more frequent visitors does not scale in the same manner, however.  Most notably, users with 16 transactions contributes a large amount of revenue."
   ]
  },
  {
   "cell_type": "code",
   "execution_count": 39,
   "metadata": {},
   "outputs": [],
   "source": [
    "query = \"\"\"\n",
    "SELECT geoNetwork ->> 'networkDomain' AS networkDomain,\n",
    "    SUM(CAST(totals ->> 'transactionRevenue' AS NUMERIC))/10^6 AS revSum,\n",
    "    AVG(CAST(totals ->> 'transactionRevenue' AS NUMERIC))/10^6 AS revAvg,\n",
    "    COUNT(CAST(totals ->> 'transactionRevenue' AS NUMERIC)) AS revCount\n",
    "FROM train_data\n",
    "WHERE totals ->> 'transactionRevenue' IS NOT NULL\n",
    "GROUP BY geoNetwork ->> 'networkDomain'\n",
    "\"\"\"\n",
    "\n",
    "money_domains = pd.read_sql_query(query, engine)\n",
    "\n",
    "query = \"\"\"\n",
    "SELECT DISTINCT geoNetwork ->> 'networkDomain'\n",
    "FROM train_data\n",
    "\"\"\"\n",
    "\n",
    "all_domains = pd.read_sql_query(query, engine)"
   ]
  },
  {
   "cell_type": "code",
   "execution_count": 40,
   "metadata": {},
   "outputs": [
    {
     "data": {
      "text/plain": [
       "(732, 4)"
      ]
     },
     "execution_count": 40,
     "metadata": {},
     "output_type": "execute_result"
    }
   ],
   "source": [
    "money_domains.shape"
   ]
  },
  {
   "cell_type": "code",
   "execution_count": 41,
   "metadata": {},
   "outputs": [
    {
     "data": {
      "text/plain": [
       "(28064, 1)"
      ]
     },
     "execution_count": 41,
     "metadata": {},
     "output_type": "execute_result"
    }
   ],
   "source": [
    "all_domains.shape"
   ]
  },
  {
   "cell_type": "code",
   "execution_count": 42,
   "metadata": {},
   "outputs": [
    {
     "data": {
      "text/plain": [
       "<Figure size 1152x576 with 0 Axes>"
      ]
     },
     "metadata": {},
     "output_type": "display_data"
    },
    {
     "data": {
      "image/png": "[encoded data removed]",
      "text/plain": [
       "<Figure size 432x288 with 1 Axes>"
      ]
     },
     "metadata": {},
     "output_type": "display_data"
    }
   ],
   "source": [
    "plt.figure(figsize=(16,8))\n",
    "money_domains\\\n",
    "    .query('revcount>10')\\\n",
    "    .sort_values('revcount', ascending=False)\\\n",
    "    .head(10)\\\n",
    "    .plot('networkdomain', 'revavg', kind='bar', color='goldenrod', label='Average Revenue')\n",
    "plt.title('Domains Ordered by Number of Transactions');"
   ]
  },
  {
   "cell_type": "markdown",
   "metadata": {},
   "source": [
    "Only a small fraction of all domains contribute to transactions.  Of these, comcastbusiness.net has the highest average by far.  We should inspect the number of transactions to evaluate if this is a fair comparison - it could be that the tail end members of the graph actually have very little transactions."
   ]
  },
  {
   "cell_type": "code",
   "execution_count": 43,
   "metadata": {},
   "outputs": [
    {
     "data": {
      "text/html": [
       "<div>\n",
       "<style scoped>\n",
       "    .dataframe tbody tr th:only-of-type {\n",
       "        vertical-align: middle;\n",
       "    }\n",
       "\n",
       "    .dataframe tbody tr th {\n",
       "        vertical-align: top;\n",
       "    }\n",
       "\n",
       "    .dataframe thead th {\n",
       "        text-align: right;\n",
       "    }\n",
       "</style>\n",
       "<table border=\"1\" class=\"dataframe\">\n",
       "  <thead>\n",
       "    <tr style=\"text-align: right;\">\n",
       "      <th></th>\n",
       "      <th>networkdomain</th>\n",
       "      <th>revsum</th>\n",
       "      <th>revavg</th>\n",
       "      <th>revcount</th>\n",
       "    </tr>\n",
       "  </thead>\n",
       "  <tbody>\n",
       "    <tr>\n",
       "      <th>0</th>\n",
       "      <td>(not set)</td>\n",
       "      <td>848264.07</td>\n",
       "      <td>127.654488</td>\n",
       "      <td>6645</td>\n",
       "    </tr>\n",
       "    <tr>\n",
       "      <th>140</th>\n",
       "      <td>comcast.net</td>\n",
       "      <td>123169.57</td>\n",
       "      <td>131.873201</td>\n",
       "      <td>934</td>\n",
       "    </tr>\n",
       "    <tr>\n",
       "      <th>675</th>\n",
       "      <td>verizon.net</td>\n",
       "      <td>52918.97</td>\n",
       "      <td>112.833625</td>\n",
       "      <td>469</td>\n",
       "    </tr>\n",
       "    <tr>\n",
       "      <th>660</th>\n",
       "      <td>unknown.unknown</td>\n",
       "      <td>34901.54</td>\n",
       "      <td>87.253850</td>\n",
       "      <td>400</td>\n",
       "    </tr>\n",
       "    <tr>\n",
       "      <th>525</th>\n",
       "      <td>rr.com</td>\n",
       "      <td>30132.18</td>\n",
       "      <td>82.780714</td>\n",
       "      <td>364</td>\n",
       "    </tr>\n",
       "    <tr>\n",
       "      <th>141</th>\n",
       "      <td>comcastbusiness.net</td>\n",
       "      <td>146146.41</td>\n",
       "      <td>497.096633</td>\n",
       "      <td>294</td>\n",
       "    </tr>\n",
       "    <tr>\n",
       "      <th>149</th>\n",
       "      <td>cox.net</td>\n",
       "      <td>20770.68</td>\n",
       "      <td>133.145385</td>\n",
       "      <td>156</td>\n",
       "    </tr>\n",
       "    <tr>\n",
       "      <th>537</th>\n",
       "      <td>sbcglobal.net</td>\n",
       "      <td>17488.97</td>\n",
       "      <td>116.593133</td>\n",
       "      <td>150</td>\n",
       "    </tr>\n",
       "    <tr>\n",
       "      <th>449</th>\n",
       "      <td>optonline.net</td>\n",
       "      <td>14234.34</td>\n",
       "      <td>107.025113</td>\n",
       "      <td>133</td>\n",
       "    </tr>\n",
       "    <tr>\n",
       "      <th>505</th>\n",
       "      <td>qwest.net</td>\n",
       "      <td>10481.25</td>\n",
       "      <td>119.105114</td>\n",
       "      <td>88</td>\n",
       "    </tr>\n",
       "  </tbody>\n",
       "</table>\n",
       "</div>"
      ],
      "text/plain": [
       "           networkdomain     revsum      revavg  revcount\n",
       "0              (not set)  848264.07  127.654488      6645\n",
       "140          comcast.net  123169.57  131.873201       934\n",
       "675          verizon.net   52918.97  112.833625       469\n",
       "660      unknown.unknown   34901.54   87.253850       400\n",
       "525               rr.com   30132.18   82.780714       364\n",
       "141  comcastbusiness.net  146146.41  497.096633       294\n",
       "149              cox.net   20770.68  133.145385       156\n",
       "537        sbcglobal.net   17488.97  116.593133       150\n",
       "449        optonline.net   14234.34  107.025113       133\n",
       "505            qwest.net   10481.25  119.105114        88"
      ]
     },
     "execution_count": 43,
     "metadata": {},
     "output_type": "execute_result"
    }
   ],
   "source": [
    "money_domains\\\n",
    "    .query('revcount>10')\\\n",
    "    .sort_values('revcount', ascending=False)\\\n",
    "    .head(10)"
   ]
  },
  {
   "cell_type": "markdown",
   "metadata": {},
   "source": [
    "There are a sizeable number of transactions under the comcastbusiness.net domain.  However, we are reaching a point where each of these categories only contributes a small number of transactions individually, and the entire category is dominated by domains that did not get tagged.  We should keep this in mind when considering which features to include in our model."
   ]
  },
  {
   "cell_type": "markdown",
   "metadata": {},
   "source": [
    "In the previous three visualizations, there was strange behavior noticed in one of the categories having a comparably larger contribution to revenue.  Rather than believing specifically one observation in each category independently, this is evidence that a single user, or at least group of users, is an outlier skewing results.  While we still seek to understand the revenue stream on a large scale, we must investigate behavior at the user level to get any further."
   ]
  },
  {
   "cell_type": "markdown",
   "metadata": {},
   "source": [
    "On a final note about the general structure of the data, we should find all unique values for the embedded jsons in the training set, as well as which columns are the ones with no information."
   ]
  },
  {
   "cell_type": "code",
   "execution_count": 44,
   "metadata": {},
   "outputs": [],
   "source": [
    "def queryUniques(col_name, field_name, set_name = 'train'):\n",
    "    query = f\"\"\"\n",
    "        SELECT DISTINCT {col_name} ->> '{field_name}'\n",
    "        FROM {set_name}_data\n",
    "    \"\"\"\n",
    "    \n",
    "    return pd.read_sql_query(query, engine).values"
   ]
  },
  {
   "cell_type": "code",
   "execution_count": 45,
   "metadata": {},
   "outputs": [],
   "source": [
    "field_vals = {set_name:\n",
    "              {column:\n",
    "               {field[0]:queryUniques(column,field[0])\n",
    "                for field in json_fields[set_name][column].values}\n",
    "               for column in json_cols}\n",
    "              for set_name in ['train', 'test']}"
   ]
  },
  {
   "cell_type": "code",
   "execution_count": 46,
   "metadata": {},
   "outputs": [],
   "source": [
    "with open('./pickles/field_vals.pkl', 'wb') as f:\n",
    "    pickle.dump(field_vals, f)"
   ]
  },
  {
   "cell_type": "code",
   "execution_count": 47,
   "metadata": {},
   "outputs": [],
   "source": [
    "useless_fields = {'train':set(), 'test':set()}\n",
    "\n",
    "for set_name in ['train', 'test']:\n",
    "    for column in json_cols:\n",
    "        for field in json_fields[set_name][column].values:\n",
    "            if len(field_vals[set_name][column][field[0]]) == 1:\n",
    "                useless_fields[set_name].update(field)"
   ]
  },
  {
   "cell_type": "code",
   "execution_count": 48,
   "metadata": {},
   "outputs": [],
   "source": [
    "with open('./pickles/useless_fields.pkl', 'wb') as f:\n",
    "    pickle.dump(useless_fields, f)"
   ]
  },
  {
   "cell_type": "code",
   "execution_count": 49,
   "metadata": {},
   "outputs": [
    {
     "data": {
      "text/plain": [
       "set()"
      ]
     },
     "execution_count": 49,
     "metadata": {},
     "output_type": "execute_result"
    }
   ],
   "source": [
    "useless_fields['train'].symmetric_difference(useless_fields['test'])"
   ]
  },
  {
   "cell_type": "markdown",
   "metadata": {},
   "source": [
    "Censored fields remain censored or useless.  We list the useless fields below."
   ]
  },
  {
   "cell_type": "code",
   "execution_count": 50,
   "metadata": {},
   "outputs": [
    {
     "data": {
      "text/plain": [
       "{'browserSize',\n",
       " 'browserVersion',\n",
       " 'cityId',\n",
       " 'flashVersion',\n",
       " 'language',\n",
       " 'latitude',\n",
       " 'longitude',\n",
       " 'mobileDeviceBranding',\n",
       " 'mobileDeviceInfo',\n",
       " 'mobileDeviceMarketingName',\n",
       " 'mobileDeviceModel',\n",
       " 'mobileInputSelector',\n",
       " 'networkLocation',\n",
       " 'operatingSystemVersion',\n",
       " 'screenColors',\n",
       " 'screenResolution',\n",
       " 'visits'}"
      ]
     },
     "execution_count": 50,
     "metadata": {},
     "output_type": "execute_result"
    }
   ],
   "source": [
    "useless_fields['train']"
   ]
  }
 ],
 "metadata": {
  "kernelspec": {
   "display_name": "Python 3",
   "language": "python",
   "name": "python3"
  },
  "language_info": {
   "codemirror_mode": {
    "name": "ipython",
    "version": 3
   },
   "file_extension": ".py",
   "mimetype": "text/x-python",
   "name": "python",
   "nbconvert_exporter": "python",
   "pygments_lexer": "ipython3",
   "version": "3.6.7"
  }
 },
 "nbformat": 4,
 "nbformat_minor": 2
}
