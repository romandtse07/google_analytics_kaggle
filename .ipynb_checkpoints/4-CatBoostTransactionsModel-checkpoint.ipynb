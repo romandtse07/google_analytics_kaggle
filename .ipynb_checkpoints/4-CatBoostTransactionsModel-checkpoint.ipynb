{
 "cells": [
  {
   "cell_type": "markdown",
   "metadata": {},
   "source": [
    "# Transaction Level Models\n",
    "\n",
    "While it was expected that aggregation of features in a somewhat arbitrary manner would result in the loss of information, it was not expected that such an approach would not be able to beat the baseline score of guessing only zeros.  Here, we explore first training models to try and predict total revenue for each user session, this time using the catboost library.  This decision tree ensemble model includes a categorical encoding algorithm that promises to deal with labelling unseen categories in an efficient manner that improves accuracy.  We leave all features in for this notebook, as well as add in time-lagged features in hopes that these might also help predict transaction revenue, the intuition being that past behavior should tell us something about whether a user will finally make a purchase.\n",
    "\n",
    "While we ultimately end up with higher accuracy, we find the same qualitative behavior as before.  The results of this model do not lend themselves to inference, but could have some value in looking at customer value anyway."
   ]
  },
  {
   "cell_type": "code",
   "execution_count": 1,
   "metadata": {},
   "outputs": [
    {
     "name": "stderr",
     "output_type": "stream",
     "text": [
      "/anaconda3/lib/python3.6/site-packages/lightgbm/__init__.py:46: UserWarning: Starting from version 2.2.1, the library file in distribution wheels for macOS is built by the Apple Clang (Xcode_9.4.1) compiler.\n",
      "This means that in case of installing LightGBM from PyPI via the ``pip install lightgbm`` command, you don't need to install the gcc compiler anymore.\n",
      "Instead of that, you need to install the OpenMP library, which is required for running LightGBM on the system with the Apple Clang compiler.\n",
      "You can install the OpenMP library by the following command: ``brew install libomp``.\n",
      "  \"You can install the OpenMP library by the following command: ``brew install libomp``.\", UserWarning)\n",
      "/anaconda3/lib/python3.6/site-packages/h5py/__init__.py:36: FutureWarning: Conversion of the second argument of issubdtype from `float` to `np.floating` is deprecated. In future, it will be treated as `np.float64 == np.dtype(float).type`.\n",
      "  from ._conv import register_converters as _register_converters\n",
      "Using TensorFlow backend.\n"
     ]
    }
   ],
   "source": [
    "import pandas as pd\n",
    "import sqlalchemy\n",
    "import numpy as np\n",
    "import pickle\n",
    "\n",
    "from sklearn.model_selection import train_test_split\n",
    "from sklearn.metrics import mean_squared_error\n",
    "from sklearn.preprocessing import StandardScaler\n",
    "\n",
    "import catboost as cb\n",
    "\n",
    "%matplotlib inline"
   ]
  },
  {
   "cell_type": "code",
   "execution_count": 2,
   "metadata": {},
   "outputs": [],
   "source": [
    "with open('credentials.txt') as f:\n",
    "    path = f.read()\n",
    "    \n",
    "engine = sqlalchemy.create_engine(path)"
   ]
  },
  {
   "cell_type": "code",
   "execution_count": 3,
   "metadata": {},
   "outputs": [],
   "source": [
    "with open('../pickles/field_dict.pkl', 'rb') as f:\n",
    "    field_dict = pickle.load(f)\n",
    "    \n",
    "with open('../pickles/useless_fields.pkl', 'rb') as f:\n",
    "    useless_fields = pickle.load(f)\n",
    "\n",
    "with open('../pickles/adwordsClickInfo_keys.pkl', 'rb') as f:\n",
    "    adwordsClickInfo_keys = pickle.load(f)\n",
    "    \n",
    "with open('../pickles/channel_groups.pkl', 'rb') as f:\n",
    "    channel_groups = pickle.load(f)\n",
    "    \n",
    "with open('../pickles/field_vals.pkl', 'rb') as f:\n",
    "    field_vals = pickle.load(f)"
   ]
  },
  {
   "cell_type": "code",
   "execution_count": null,
   "metadata": {},
   "outputs": [],
   "source": [
    "query = \"\"\"\n",
    "SELECT fullVisitorId\n",
    "FROM train_data\n",
    "GROUP BY fullVisitorId\n",
    "HAVING SUM(CAST(totals ->> 'transactionRevenue' AS numeric)) > 0\n",
    "\"\"\"\n",
    "\n",
    "customers = pd.read_sql_query(query, engine)"
   ]
  },
  {
   "cell_type": "code",
   "execution_count": null,
   "metadata": {},
   "outputs": [],
   "source": [
    "with open('../pickles/train_customer_ids.pkl', 'wb') as f:\n",
    "    pickle.dump(customers, f)"
   ]
  },
  {
   "cell_type": "code",
   "execution_count": null,
   "metadata": {},
   "outputs": [],
   "source": [
    "query = \"\"\"\n",
    "SELECT fullVisitorId\n",
    "FROM train_data\n",
    "GROUP BY fullVisitorId\n",
    "HAVING SUM(CAST(totals ->> 'transactionRevenue' AS numeric)) IS NULL\n",
    "\"\"\"\n",
    "\n",
    "lookers = pd.read_sql_query(query, engine)"
   ]
  },
  {
   "cell_type": "code",
   "execution_count": null,
   "metadata": {},
   "outputs": [],
   "source": [
    "with open('./pickles/train_looker_ids.pkl', 'wb') as f:\n",
    "    pickle.dump(lookers, f)"
   ]
  },
  {
   "cell_type": "code",
   "execution_count": 4,
   "metadata": {},
   "outputs": [],
   "source": [
    "with open('../pickles/train_customer_ids.pkl', 'rb') as f:\n",
    "    train_customer_ids = pickle.load(f)"
   ]
  },
  {
   "cell_type": "markdown",
   "metadata": {},
   "source": [
    "There is the question of scaling the revenue.  We scale it to dollars just to get a natural sense of scale during the training, but this is an arbitrary decision.  The other queries just deal with the json format."
   ]
  },
  {
   "cell_type": "code",
   "execution_count": 5,
   "metadata": {},
   "outputs": [],
   "source": [
    "def revTemplate(key, name, num_type = 'FLOAT'):\n",
    "    return f\"\"\"COALESCE(CAST({key} ->> '{name}' AS {num_type}), 0)/10^6 AS {name}\"\"\"\n",
    "\n",
    "def jnumTemplate(key, name, num_type = 'INT'):\n",
    "    return f\"\"\"COALESCE(CAST({key} ->> '{name}' AS {num_type}), 0) AS {name}\"\"\"\n",
    "\n",
    "def numTemplate(name):\n",
    "    return f\"\"\"COALESCE({name}, 0) AS {name}\"\"\"\n",
    "\n",
    "def jstrTemplate(key, name):\n",
    "    return f\"{key} ->> '{name}' AS {name}\"\n",
    "\n",
    "def strTemplate(name):\n",
    "    return f\"{name}\"\n",
    "\n",
    "def adwordsTemplate(name):\n",
    "    return f\"CAST(trafficSource ->> 'adwordsClickInfo' AS JSONB) ->> '{name}' AS {name}\""
   ]
  },
  {
   "cell_type": "code",
   "execution_count": 6,
   "metadata": {},
   "outputs": [],
   "source": [
    "def getQuery(dataset = 'train'):\n",
    "    numeric_cols = ['visitNumber', 'newVisits', 'bounces', 'pageviews', 'visits', 'hits', 'transactionRevenue']\n",
    "    if dataset != 'train':\n",
    "        numeric_cols.pop()\n",
    "    selects = []\n",
    "    for cat, subcats in field_dict.items():\n",
    "        for subcat in subcats:\n",
    "            if subcat not in useless_fields[dataset]:\n",
    "                if subcat == 'transactionRevenue':\n",
    "                    selects.append(revTemplate(cat, subcat, 'NUMERIC'))\n",
    "                elif subcat in numeric_cols:\n",
    "                    selects.append(jnumTemplate(cat, subcat))\n",
    "                elif subcat == 'adwordsClickInfo':\n",
    "                    for key in adwordsClickInfo_keys:\n",
    "                        selects.append(adwordsTemplate(key))\n",
    "                else:\n",
    "                    selects.append(jstrTemplate(cat, subcat))\n",
    "    selects.extend([numTemplate('visitNumber'), \n",
    "                    strTemplate('channelGrouping'),\n",
    "                    strTemplate('fullVisitorId'),\n",
    "                    numTemplate('visitStartTime'),\n",
    "                   ])\n",
    "    return ', '.join(selects)"
   ]
  },
  {
   "cell_type": "code",
   "execution_count": 7,
   "metadata": {},
   "outputs": [],
   "source": [
    "qstring = getQuery()"
   ]
  },
  {
   "cell_type": "code",
   "execution_count": 8,
   "metadata": {},
   "outputs": [],
   "source": [
    "with open('../pickles/top_order.pkl', 'rb') as f:\n",
    "    top_order = pickle.load(f)"
   ]
  },
  {
   "cell_type": "code",
   "execution_count": 9,
   "metadata": {},
   "outputs": [],
   "source": [
    "#Note to self: if you don't change the ids list, you will lose a lot of ids.\n",
    "#this is regarding selectively training on data that does not involve bounces.\n",
    "#you will train on less data than you think, but you won't inflate the score at least by having those you excluded.\n",
    "def getUserData(user_list):\n",
    "    users = \"\\', \\'\".join(user_list)\n",
    "    query = f\"\"\"\n",
    "    SELECT {qstring}\n",
    "    FROM train_data\n",
    "    WHERE fullVisitorId IN (\\'{users}\\')\n",
    "    \"\"\"\n",
    "\n",
    "    return pd.read_sql_query(query, engine, parse_dates=['visitstarttime'])"
   ]
  },
  {
   "cell_type": "code",
   "execution_count": 10,
   "metadata": {},
   "outputs": [],
   "source": [
    "with open('../pickles/objects.pkl', 'rb') as f:\n",
    "    objects = pickle.load(f)"
   ]
  },
  {
   "cell_type": "code",
   "execution_count": 11,
   "metadata": {},
   "outputs": [],
   "source": [
    "def adjustCols(df, drop_ids = True, ignore_bounce = True):\n",
    "    back_looking = ['bounces', 'hits', 'newvisits', 'pageviews']\n",
    "    \n",
    "    df = df.sort_values(['fullvisitorid','visitstarttime'])\n",
    "    #turns out the for loop checks col_order dynamically, temporary list needed to avoid infinite loop\n",
    "    for col in back_looking:\n",
    "        df[f'{col}last'] = df.groupby('fullvisitorid')[col].shift(1)\n",
    "        df[f'{col}two'] = df.groupby('fullvisitorid')[col].shift(2)\n",
    "    df['sincelast'] = df.groupby('fullvisitorid').visitstarttime.diff().map(lambda x: x.days + x.seconds/86400)\n",
    "    df['sincetwo'] = df.groupby('fullvisitorid').visitstarttime.diff(2).map(lambda x: x.days + x.seconds/86400)\n",
    "    df['hour'] = df.visitstarttime.map(lambda x: x.hour)\n",
    "    df['weekday'] = df.visitstarttime.map(lambda x: x.dayofweek)\n",
    "    df['month'] = df.visitstarttime.map(lambda x: x.month)\n",
    "    \n",
    "    if drop_ids:\n",
    "        df = df.drop('fullvisitorid', axis=1)\n",
    "        \n",
    "    if ignore_bounce:\n",
    "        df = df.query('bounces==0')\n",
    " \n",
    "    return df.drop('visitstarttime', axis=1)"
   ]
  },
  {
   "cell_type": "code",
   "execution_count": 12,
   "metadata": {},
   "outputs": [],
   "source": [
    "with open('../pickles/train_customer_ids.pkl', 'rb') as f:\n",
    "    train_customer_ids = pickle.load(f)"
   ]
  },
  {
   "cell_type": "code",
   "execution_count": 13,
   "metadata": {},
   "outputs": [],
   "source": [
    "with open('../pickles/train_looker_ids.pkl', 'rb') as f:\n",
    "    train_looker_ids = pickle.load(f)"
   ]
  },
  {
   "cell_type": "code",
   "execution_count": 14,
   "metadata": {},
   "outputs": [],
   "source": [
    "#shuffle now so we can just iterate through lists\n",
    "from random import shuffle\n",
    "\n",
    "def stratifiedIdSplit(test_size=0.5):\n",
    "    customer_size = int(len(train_customer_ids)*test_size)\n",
    "    looker_size = int(len(train_looker_ids)*test_size)\n",
    "    \n",
    "    test_customers = list(np.random.choice(train_customer_ids.T.values[0], replace=False, size=customer_size))\n",
    "    test_lookers = list(np.random.choice(train_looker_ids.T.values[0], replace=False, size=looker_size))\n",
    "    \n",
    "    train_customers = list(set(train_customer_ids.T.values[0]).difference(set(test_customers)))\n",
    "    train_lookers = list(set(train_looker_ids.T.values[0]).difference(set(test_lookers)))\n",
    "    \n",
    "    test_customers.extend(test_lookers)\n",
    "    train_customers.extend(train_lookers)\n",
    "    \n",
    "    shuffle(test_customers)\n",
    "    shuffle(train_customers)\n",
    "    \n",
    "    return train_customers, test_customers"
   ]
  },
  {
   "cell_type": "code",
   "execution_count": 15,
   "metadata": {},
   "outputs": [],
   "source": [
    "train_ids, test_ids = stratifiedIdSplit(0.3)"
   ]
  },
  {
   "cell_type": "markdown",
   "metadata": {},
   "source": [
    "While we can hope a machine can learn what is unique about this outlier, the fact is that there is no one else like this user.  In our ensemble later, considering it is a system of gradient boosted trees, there is a very good chance that one of the forests will be awful at guessing because it was fit to minimize the error it would get from this outlier point.  With all its activity, though, perhaps the behavior could still fall in line with the other points of data.  For the fear of overfitting to this point, and because our validation can tell us nothing about how well it does on similar outliers (because there are none like it), we remove it from our model for now."
   ]
  },
  {
   "cell_type": "code",
   "execution_count": 16,
   "metadata": {},
   "outputs": [],
   "source": [
    "try:\n",
    "    train_ids.remove(top_order.iloc[0,0])\n",
    "except:\n",
    "    test_ids.remove(top_order.iloc[0,0])"
   ]
  },
  {
   "cell_type": "code",
   "execution_count": 17,
   "metadata": {},
   "outputs": [
    {
     "data": {
      "text/plain": [
       "Index(['devicecategory', 'ismobile', 'browser', 'operatingsystem', 'city',\n",
       "       'continent', 'country', 'metro', 'networkdomain', 'region',\n",
       "       'subcontinent', 'bounces', 'hits', 'newvisits', 'pageviews',\n",
       "       'transactionrevenue', 'adcontent', 'adnetworktype',\n",
       "       'criteriaparameters', 'gclid', 'isvideoad', 'page', 'slot',\n",
       "       'targetingcriteria', 'campaign', 'campaigncode', 'istruedirect',\n",
       "       'keyword', 'medium', 'referralpath', 'source', 'visitnumber',\n",
       "       'channelgrouping', 'fullvisitorid', 'visitstarttime'],\n",
       "      dtype='object')"
      ]
     },
     "execution_count": 17,
     "metadata": {},
     "output_type": "execute_result"
    }
   ],
   "source": [
    "getUserData([test_ids[0]]).columns"
   ]
  },
  {
   "cell_type": "code",
   "execution_count": 18,
   "metadata": {},
   "outputs": [],
   "source": [
    "def createChunk(ids_list, size, drop_ids = True, ignore_bounce=True):\n",
    "    new_size = len(ids_list)\n",
    "    if  new_size > size:\n",
    "        new_size = size\n",
    "    someppl = ids_list\n",
    "    shuffle(someppl)\n",
    "    someppl = someppl[:new_size]\n",
    "    chunk = getUserData(someppl)\n",
    "    chunk = adjustCols(chunk, drop_ids, ignore_bounce)\n",
    "    \n",
    "    return chunk.fillna(0), ids_list[new_size:]"
   ]
  },
  {
   "cell_type": "code",
   "execution_count": 19,
   "metadata": {},
   "outputs": [],
   "source": [
    "trial_df = adjustCols(getUserData([top_order.iloc[0][0]])).drop('transactionrevenue', axis=1)"
   ]
  },
  {
   "cell_type": "code",
   "execution_count": 20,
   "metadata": {},
   "outputs": [],
   "source": [
    "trial_vals = adjustCols(getUserData([top_order.iloc[0][0]])).transactionrevenue"
   ]
  },
  {
   "cell_type": "code",
   "execution_count": 21,
   "metadata": {},
   "outputs": [],
   "source": [
    "cat_feets = np.where(trial_df.dtypes == object)[0]"
   ]
  },
  {
   "cell_type": "code",
   "execution_count": 22,
   "metadata": {},
   "outputs": [
    {
     "data": {
      "text/plain": [
       "Index(['devicecategory', 'ismobile', 'browser', 'operatingsystem', 'city',\n",
       "       'continent', 'country', 'metro', 'networkdomain', 'region',\n",
       "       'subcontinent', 'adcontent', 'adnetworktype', 'criteriaparameters',\n",
       "       'gclid', 'isvideoad', 'page', 'slot', 'targetingcriteria', 'campaign',\n",
       "       'campaigncode', 'istruedirect', 'keyword', 'medium', 'referralpath',\n",
       "       'source', 'channelgrouping'],\n",
       "      dtype='object')"
      ]
     },
     "execution_count": 22,
     "metadata": {},
     "output_type": "execute_result"
    }
   ],
   "source": [
    "trial_df.columns[cat_feets]"
   ]
  },
  {
   "cell_type": "markdown",
   "metadata": {},
   "source": [
    "Instead of training a set of trees and losing most of the trees, let's make an ensemble.  We can blend it and fit to the actual target with a single ensemble in two stages; we fit by session while still preventing user leakage before using these to predict the sum of all sessions and fitting on a separate validation set.\n",
    "\n",
    "If the number of folds is too large or small, we find that the system begins to more easily overfit and converges at a much lower score.  At the time of writing this, care was not taken in splitting the ids further, and many of these trees may be missing users who actually make purchases.  Too few trees and there is little information to be gained.  Somehow, the score is worse in this situation.  The code to execute the experiment is listed below.  Note we allow this stage to overfit to its training data."
   ]
  },
  {
   "cell_type": "code",
   "execution_count": 42,
   "metadata": {},
   "outputs": [
    {
     "name": "stdout",
     "output_type": "stream",
     "text": [
      "0:\tlearn: 36.8417253\ttotal: 137ms\tremaining: 2m 16s\n",
      "250:\tlearn: 32.0623022\ttotal: 33s\tremaining: 1m 38s\n",
      "500:\tlearn: 30.3389416\ttotal: 1m 6s\tremaining: 1m 6s\n",
      "750:\tlearn: 29.2576903\ttotal: 1m 39s\tremaining: 33.1s\n",
      "999:\tlearn: 28.4875161\ttotal: 2m 13s\tremaining: 0us\n",
      "0:\tlearn: 32.4021570\ttotal: 135ms\tremaining: 2m 14s\n",
      "250:\tlearn: 27.5181605\ttotal: 32.3s\tremaining: 1m 36s\n",
      "500:\tlearn: 25.4465195\ttotal: 1m 4s\tremaining: 1m 4s\n",
      "750:\tlearn: 23.8570970\ttotal: 1m 37s\tremaining: 32.2s\n",
      "999:\tlearn: 22.7985629\ttotal: 2m 9s\tremaining: 0us\n",
      "0:\tlearn: 104.3853046\ttotal: 128ms\tremaining: 2m 7s\n",
      "250:\tlearn: 89.0422130\ttotal: 31.3s\tremaining: 1m 33s\n",
      "500:\tlearn: 80.7562266\ttotal: 1m 3s\tremaining: 1m 3s\n",
      "750:\tlearn: 75.8430757\ttotal: 1m 35s\tremaining: 31.7s\n",
      "999:\tlearn: 72.2953291\ttotal: 2m 8s\tremaining: 0us\n",
      "0:\tlearn: 66.9413343\ttotal: 131ms\tremaining: 2m 11s\n",
      "250:\tlearn: 57.8270408\ttotal: 32.4s\tremaining: 1m 36s\n",
      "500:\tlearn: 52.8344651\ttotal: 1m 5s\tremaining: 1m 5s\n",
      "750:\tlearn: 48.9728531\ttotal: 1m 39s\tremaining: 32.9s\n",
      "999:\tlearn: 46.0413471\ttotal: 2m 12s\tremaining: 0us\n",
      "0:\tlearn: 29.3594241\ttotal: 150ms\tremaining: 2m 30s\n",
      "250:\tlearn: 25.1828088\ttotal: 33s\tremaining: 1m 38s\n",
      "500:\tlearn: 24.0775733\ttotal: 1m 10s\tremaining: 1m 9s\n",
      "750:\tlearn: 23.4237958\ttotal: 1m 46s\tremaining: 35.2s\n",
      "999:\tlearn: 22.9177752\ttotal: 2m 20s\tremaining: 0us\n",
      "0:\tlearn: 56.1249978\ttotal: 148ms\tremaining: 2m 28s\n",
      "250:\tlearn: 50.1416400\ttotal: 34.6s\tremaining: 1m 43s\n",
      "500:\tlearn: 47.7422200\ttotal: 1m 8s\tremaining: 1m 8s\n",
      "750:\tlearn: 46.0214002\ttotal: 1m 42s\tremaining: 34s\n",
      "999:\tlearn: 44.5459593\ttotal: 2m 16s\tremaining: 0us\n",
      "0:\tlearn: 67.7202740\ttotal: 135ms\tremaining: 2m 15s\n",
      "250:\tlearn: 62.4445784\ttotal: 33.9s\tremaining: 1m 41s\n",
      "500:\tlearn: 60.3962484\ttotal: 1m 8s\tremaining: 1m 7s\n",
      "750:\tlearn: 57.9771705\ttotal: 1m 42s\tremaining: 34s\n",
      "999:\tlearn: 56.5502686\ttotal: 2m 18s\tremaining: 0us\n",
      "0:\tlearn: 38.0543500\ttotal: 145ms\tremaining: 2m 25s\n",
      "250:\tlearn: 29.8265129\ttotal: 33.3s\tremaining: 1m 39s\n",
      "500:\tlearn: 28.0267346\ttotal: 1m 6s\tremaining: 1m 6s\n",
      "750:\tlearn: 26.9186050\ttotal: 1m 40s\tremaining: 33.4s\n",
      "999:\tlearn: 26.0562409\ttotal: 2m 14s\tremaining: 0us\n",
      "0:\tlearn: 36.7953200\ttotal: 138ms\tremaining: 2m 17s\n",
      "250:\tlearn: 30.4396899\ttotal: 33.4s\tremaining: 1m 39s\n",
      "500:\tlearn: 29.1432295\ttotal: 1m 7s\tremaining: 1m 6s\n",
      "750:\tlearn: 27.9278780\ttotal: 1m 42s\tremaining: 34s\n",
      "999:\tlearn: 27.0775706\ttotal: 2m 15s\tremaining: 0us\n",
      "0:\tlearn: 50.5683854\ttotal: 130ms\tremaining: 2m 10s\n",
      "250:\tlearn: 41.3153427\ttotal: 33.8s\tremaining: 1m 40s\n",
      "500:\tlearn: 38.8689759\ttotal: 1m 7s\tremaining: 1m 7s\n",
      "750:\tlearn: 37.1576217\ttotal: 1m 42s\tremaining: 33.9s\n",
      "999:\tlearn: 35.7381395\ttotal: 2m 16s\tremaining: 0us\n",
      "0:\tlearn: 39.0761674\ttotal: 89.2ms\tremaining: 1m 29s\n",
      "250:\tlearn: 34.0008627\ttotal: 31.7s\tremaining: 1m 34s\n",
      "500:\tlearn: 31.9878981\ttotal: 1m 3s\tremaining: 1m 3s\n",
      "750:\tlearn: 30.2648683\ttotal: 1m 36s\tremaining: 32.1s\n",
      "999:\tlearn: 28.8228560\ttotal: 2m 15s\tremaining: 0us\n"
     ]
    }
   ],
   "source": [
    "id_holder = train_ids\n",
    "fold = 15\n",
    "holdouts = 3\n",
    "fold_size = len(id_holder)//fold\n",
    "\n",
    "models = []\n",
    "first_ids = id_holder[:fold_size].copy()\n",
    "\n",
    "\n",
    "def trainCB(train_set, eval_pool, model_list):\n",
    "    model_list.append(cb.CatBoostRegressor(iterations = 1000,\n",
    "                                           learning_rate  = .1,\n",
    "                                           l2_leaf_reg = 100,\n",
    "                                           cat_features = cat_feets,\n",
    "                                           verbose = True))\n",
    "    model_list[-1].fit(X = train_set.drop('transactionrevenue', axis=1),\n",
    "                       y = train_set.transactionrevenue,\n",
    "                       #use_best_model = True, \n",
    "                       #eval_set = eval_pool, \n",
    "                       #early_stopping_rounds = 10, \n",
    "                       metric_period = 250)\n",
    "\n",
    "eval_chunk, id_holder = createChunk(id_holder, fold_size)\n",
    "eval_chunk = cb.Pool(eval_chunk.drop('transactionrevenue', axis=1), \n",
    "                 eval_chunk.transactionrevenue, \n",
    "                 cat_features=cat_feets)\n",
    "chunk, id_holder = createChunk(id_holder, fold_size)\n",
    "trainCB(chunk, eval_chunk, models)\n",
    "\n",
    "\n",
    "for n in range(fold - holdouts - 2):\n",
    "    eval_chunk = chunk\n",
    "    eval_chunk = cb.Pool(eval_chunk.drop('transactionrevenue', axis=1), \n",
    "                     eval_chunk.transactionrevenue, \n",
    "                     cat_features=cat_feets)\n",
    "    if n < (fold - holdouts - 3):\n",
    "        chunk, id_holder = createChunk(id_holder, fold_size)\n",
    "    else:\n",
    "        chunk = createChunk(first_ids, fold_size)[0]\n",
    "    trainCB(chunk, eval_chunk, models)\n"
   ]
  },
  {
   "cell_type": "markdown",
   "metadata": {},
   "source": [
    "At the arbitrary fold size of 8, we still get over sixty-two thousand users, and expect a good number of users to be paying customers.  We reserve 3 of these folds for validation and predicting the log of the sums.  We will also use the previous fold for validation, mostly to save space and time to be honest, though the first and last rounds must be treated separately."
   ]
  },
  {
   "cell_type": "code",
   "execution_count": 43,
   "metadata": {},
   "outputs": [],
   "source": [
    "del chunk, eval_chunk"
   ]
  },
  {
   "cell_type": "code",
   "execution_count": null,
   "metadata": {},
   "outputs": [],
   "source": [
    "with open('../models/cb_overfit_stage1.pkl', 'wb') as f:\n",
    "    pickle.dump(models, f)"
   ]
  },
  {
   "cell_type": "code",
   "execution_count": null,
   "metadata": {},
   "outputs": [],
   "source": [
    "with open('../models/cb_overfit_stage1.pkl', 'rb') as f:\n",
    "    models = pickle.load(f)"
   ]
  },
  {
   "cell_type": "markdown",
   "metadata": {},
   "source": [
    "We train the second stage here, testing against the sum of all transaction revenue per user."
   ]
  },
  {
   "cell_type": "code",
   "execution_count": 44,
   "metadata": {},
   "outputs": [],
   "source": [
    "val_df = createChunk(id_holder, len(id_holder), drop_ids=False, ignore_bounce=False)[0]"
   ]
  },
  {
   "cell_type": "code",
   "execution_count": 45,
   "metadata": {},
   "outputs": [],
   "source": [
    "val_x = val_df.drop('transactionrevenue', axis=1)\n",
    "val_y = val_df[['fullvisitorid', 'transactionrevenue']]"
   ]
  },
  {
   "cell_type": "code",
   "execution_count": 46,
   "metadata": {},
   "outputs": [],
   "source": [
    "predicts = [model.predict(val_x) for model in models]"
   ]
  },
  {
   "cell_type": "code",
   "execution_count": 47,
   "metadata": {},
   "outputs": [],
   "source": [
    "for i in range(len(models)):\n",
    "    val_x[f'predicted_{i}'] = (1 - val_x.bounces)*predicts[i] "
   ]
  },
  {
   "cell_type": "code",
   "execution_count": 48,
   "metadata": {},
   "outputs": [],
   "source": [
    "kept_columns = ['fullvisitorid', 'pageviews', 'newvisits', 'visitnumber', 'bounces', 'sincelast', 'sincetwo', 'pageviewslast', 'pageviewstwo']\n",
    "col_mask = [column in kept_columns or 'predicted_' in column for column in val_x.columns.values]\n",
    "x = val_x.loc[:,col_mask].groupby('fullvisitorid').sum()\n",
    "x2 = val_x.loc[:,col_mask].groupby('fullvisitorid').std()\n",
    "x = x.join(x2, lsuffix='_mean', rsuffix='_std')"
   ]
  },
  {
   "cell_type": "code",
   "execution_count": 49,
   "metadata": {},
   "outputs": [],
   "source": [
    "y = val_y.groupby('fullvisitorid').sum().applymap(lambda x: np.log(10**6*x + 1)).loc[x.index, :]"
   ]
  },
  {
   "cell_type": "code",
   "execution_count": 50,
   "metadata": {},
   "outputs": [],
   "source": [
    "split = int(len(x)*.3)"
   ]
  },
  {
   "cell_type": "code",
   "execution_count": 51,
   "metadata": {},
   "outputs": [],
   "source": [
    "eval_set = cb.Pool(data = x.iloc[:split, :], label = y.iloc[:split, :])\n",
    "train_set = cb.Pool(data = x.iloc[split:, :], label = y.iloc[split:, :])"
   ]
  },
  {
   "cell_type": "code",
   "execution_count": 66,
   "metadata": {},
   "outputs": [],
   "source": [
    "censemble = cb.CatBoostRegressor(iterations = 3000,\n",
    "                                 learning_rate  = .03,\n",
    "                                 l2_leaf_reg = 100,\n",
    "                                 use_best_model = True,\n",
    "                                 bagging_temperature = 1,\n",
    "                                 depth = 9,\n",
    "                                 verbose = True)"
   ]
  },
  {
   "cell_type": "code",
   "execution_count": 67,
   "metadata": {},
   "outputs": [
    {
     "name": "stderr",
     "output_type": "stream",
     "text": [
      "Warning: Overfitting detector is active, thus evaluation metric iscalculated on every iteration. 'metric_period' is ignored for evaluation metric.\n"
     ]
    },
    {
     "name": "stdout",
     "output_type": "stream",
     "text": [
      "0:\tlearn: 2.1466008\ttest: 2.0219873\tbest: 2.0219873 (0)\ttotal: 52.1ms\tremaining: 2m 36s\n",
      "20:\tlearn: 1.9105111\ttest: 1.8060460\tbest: 1.8060460 (20)\ttotal: 797ms\tremaining: 1m 53s\n",
      "40:\tlearn: 1.7945374\ttest: 1.7064557\tbest: 1.7064557 (40)\ttotal: 1.51s\tremaining: 1m 49s\n",
      "60:\tlearn: 1.7353574\ttest: 1.6602097\tbest: 1.6602097 (60)\ttotal: 2.2s\tremaining: 1m 46s\n",
      "80:\tlearn: 1.6990966\ttest: 1.6346762\tbest: 1.6346762 (80)\ttotal: 2.89s\tremaining: 1m 44s\n",
      "100:\tlearn: 1.6751506\ttest: 1.6200178\tbest: 1.6200178 (100)\ttotal: 3.59s\tremaining: 1m 43s\n",
      "120:\tlearn: 1.6566482\ttest: 1.6103646\tbest: 1.6103646 (120)\ttotal: 4.27s\tremaining: 1m 41s\n",
      "140:\tlearn: 1.6435731\ttest: 1.6046072\tbest: 1.6046072 (140)\ttotal: 4.96s\tremaining: 1m 40s\n",
      "160:\tlearn: 1.6336391\ttest: 1.6013988\tbest: 1.6013988 (160)\ttotal: 5.66s\tremaining: 1m 39s\n",
      "180:\tlearn: 1.6252090\ttest: 1.5985668\tbest: 1.5985668 (180)\ttotal: 6.35s\tremaining: 1m 38s\n",
      "200:\tlearn: 1.6183511\ttest: 1.5965184\tbest: 1.5965184 (200)\ttotal: 7.03s\tremaining: 1m 37s\n",
      "220:\tlearn: 1.6120451\ttest: 1.5956695\tbest: 1.5956504 (218)\ttotal: 7.72s\tremaining: 1m 37s\n",
      "240:\tlearn: 1.6064353\ttest: 1.5947014\tbest: 1.5947014 (240)\ttotal: 8.4s\tremaining: 1m 36s\n",
      "260:\tlearn: 1.6014691\ttest: 1.5938317\tbest: 1.5938317 (260)\ttotal: 9.09s\tremaining: 1m 35s\n",
      "280:\tlearn: 1.5964120\ttest: 1.5928005\tbest: 1.5928005 (280)\ttotal: 9.8s\tremaining: 1m 34s\n",
      "300:\tlearn: 1.5917923\ttest: 1.5921591\tbest: 1.5921591 (300)\ttotal: 10.5s\tremaining: 1m 34s\n",
      "320:\tlearn: 1.5872908\ttest: 1.5914348\tbest: 1.5914348 (320)\ttotal: 11.2s\tremaining: 1m 33s\n",
      "340:\tlearn: 1.5835276\ttest: 1.5908366\tbest: 1.5907963 (339)\ttotal: 11.9s\tremaining: 1m 32s\n",
      "Stopped by overfitting detector  (10 iterations wait)\n",
      "\n",
      "bestTest = 1.590796314\n",
      "bestIteration = 339\n",
      "\n",
      "Shrink model to first 340 iterations.\n"
     ]
    },
    {
     "data": {
      "text/plain": [
       "<catboost.core.CatBoostRegressor at 0x1a82c3db00>"
      ]
     },
     "execution_count": 67,
     "metadata": {},
     "output_type": "execute_result"
    }
   ],
   "source": [
    "censemble.fit(train_set, eval_set=eval_set, use_best_model=True, early_stopping_rounds = 10, metric_period = 20)"
   ]
  },
  {
   "cell_type": "code",
   "execution_count": 54,
   "metadata": {},
   "outputs": [],
   "source": [
    "test_df = createChunk(test_ids, len(test_ids), drop_ids=False, ignore_bounce=False)[0]"
   ]
  },
  {
   "cell_type": "code",
   "execution_count": 55,
   "metadata": {},
   "outputs": [],
   "source": [
    "test_x = test_df.drop('transactionrevenue', axis=1)\n",
    "test_y = test_df[['fullvisitorid', 'transactionrevenue']]"
   ]
  },
  {
   "cell_type": "code",
   "execution_count": 56,
   "metadata": {},
   "outputs": [],
   "source": [
    "for i in range(len(models)):\n",
    "    test_x[f'predicted_{i}'] = (1 - test_x.bounces)*models[i].predict(test_x)"
   ]
  },
  {
   "cell_type": "code",
   "execution_count": 57,
   "metadata": {},
   "outputs": [],
   "source": [
    "x = test_x.loc[:,col_mask].groupby('fullvisitorid').sum()\n",
    "x2 = test_x.loc[:,col_mask].groupby('fullvisitorid').std()\n",
    "#x3 = val_x.loc[:,col_mask].groupby('fullvisitorid').max()\n",
    "x = x.join(x2, lsuffix='_mean', rsuffix='_std')\n",
    "#x = x.join(x3, rsuffix='_max')\n",
    "\n",
    "y = test_y.groupby('fullvisitorid').sum().applymap(lambda x: np.log(10**6*x + 1)).loc[x.index, :]"
   ]
  },
  {
   "cell_type": "code",
   "execution_count": 68,
   "metadata": {},
   "outputs": [
    {
     "data": {
      "text/plain": [
       "1.628421433502931"
      ]
     },
     "execution_count": 68,
     "metadata": {},
     "output_type": "execute_result"
    }
   ],
   "source": [
    "censemble.score(x, y)"
   ]
  },
  {
   "cell_type": "code",
   "execution_count": 59,
   "metadata": {},
   "outputs": [],
   "source": [
    "import matplotlib.pyplot as plt\n",
    "%matplotlib inline"
   ]
  },
  {
   "cell_type": "code",
   "execution_count": 60,
   "metadata": {},
   "outputs": [
    {
     "data": {
      "text/plain": [
       "[<matplotlib.lines.Line2D at 0x1a82c3d940>]"
      ]
     },
     "execution_count": 60,
     "metadata": {},
     "output_type": "execute_result"
    },
    {
     "data": {
      "image/png": "[encoded data removed]",
      "text/plain": [
       "<Figure size 432x288 with 1 Axes>"
      ]
     },
     "metadata": {},
     "output_type": "display_data"
    }
   ],
   "source": [
    "plt.scatter(censemble.predict(x), y)\n",
    "plt.plot((0,25), (0,25), linestyle='--', color='k')"
   ]
  },
  {
   "cell_type": "code",
   "execution_count": null,
   "metadata": {},
   "outputs": [],
   "source": [
    "with open('../models/cb_overfit_stage2.pkl', 'wb') as f:\n",
    "    pickle.dump(censemble, f)"
   ]
  },
  {
   "cell_type": "markdown",
   "metadata": {},
   "source": [
    "We see similar results to the random forest model found before.  Again, the strategy still seems to be guessing conservatively, especially since we do not allow it to train into overfitting by much.  With the better score, this model seems to be picking up on something not trivial, and we see a slightly more convincing upward trajectory in guessing low and high user transaction sums.  While this model could not predict the amount a user spends reliably, it can at least assign a relative value to users."
   ]
  },
  {
   "cell_type": "code",
   "execution_count": null,
   "metadata": {},
   "outputs": [],
   "source": []
  }
 ],
 "metadata": {
  "kernelspec": {
   "display_name": "Python 3",
   "language": "python",
   "name": "python3"
  },
  "language_info": {
   "codemirror_mode": {
    "name": "ipython",
    "version": 3
   },
   "file_extension": ".py",
   "mimetype": "text/x-python",
   "name": "python",
   "nbconvert_exporter": "python",
   "pygments_lexer": "ipython3",
   "version": "3.6.7"
  }
 },
 "nbformat": 4,
 "nbformat_minor": 2
}
