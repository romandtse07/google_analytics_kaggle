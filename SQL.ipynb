{
 "cells": [
  {
   "cell_type": "markdown",
   "metadata": {},
   "source": [
    "# Setting up the SQL Database\n",
    "\n",
    "It had to happen eventually I guess.  I'm not paying for compute at this stage.  Maybe I really should just buy an instance with a shit ton of RAM.  Even with this EDA is going to be weird as shit. At least I've decided what to do."
   ]
  },
  {
   "cell_type": "code",
   "execution_count": 1,
   "metadata": {},
   "outputs": [],
   "source": [
    "import pandas as pd\n",
    "import sqlalchemy"
   ]
  },
  {
   "cell_type": "code",
   "execution_count": 2,
   "metadata": {},
   "outputs": [],
   "source": [
    "train = pd.read_csv('./data/train.csv', chunksize=50000)"
   ]
  },
  {
   "cell_type": "code",
   "execution_count": 3,
   "metadata": {},
   "outputs": [],
   "source": [
    "df = train.get_chunk()"
   ]
  },
  {
   "cell_type": "code",
   "execution_count": 4,
   "metadata": {},
   "outputs": [
    {
     "data": {
      "text/html": [
       "<div>\n",
       "<style scoped>\n",
       "    .dataframe tbody tr th:only-of-type {\n",
       "        vertical-align: middle;\n",
       "    }\n",
       "\n",
       "    .dataframe tbody tr th {\n",
       "        vertical-align: top;\n",
       "    }\n",
       "\n",
       "    .dataframe thead th {\n",
       "        text-align: right;\n",
       "    }\n",
       "</style>\n",
       "<table border=\"1\" class=\"dataframe\">\n",
       "  <thead>\n",
       "    <tr style=\"text-align: right;\">\n",
       "      <th></th>\n",
       "      <th>channelGrouping</th>\n",
       "      <th>date</th>\n",
       "      <th>device</th>\n",
       "      <th>fullVisitorId</th>\n",
       "      <th>geoNetwork</th>\n",
       "      <th>sessionId</th>\n",
       "      <th>socialEngagementType</th>\n",
       "      <th>totals</th>\n",
       "      <th>trafficSource</th>\n",
       "      <th>visitId</th>\n",
       "      <th>visitNumber</th>\n",
       "      <th>visitStartTime</th>\n",
       "    </tr>\n",
       "  </thead>\n",
       "  <tbody>\n",
       "    <tr>\n",
       "      <th>0</th>\n",
       "      <td>Organic Search</td>\n",
       "      <td>20160902</td>\n",
       "      <td>{\"browser\": \"Chrome\", \"browserVersion\": \"not a...</td>\n",
       "      <td>1131660440785968503</td>\n",
       "      <td>{\"continent\": \"Asia\", \"subContinent\": \"Western...</td>\n",
       "      <td>1131660440785968503_1472830385</td>\n",
       "      <td>Not Socially Engaged</td>\n",
       "      <td>{\"visits\": \"1\", \"hits\": \"1\", \"pageviews\": \"1\",...</td>\n",
       "      <td>{\"campaign\": \"(not set)\", \"source\": \"google\", ...</td>\n",
       "      <td>1472830385</td>\n",
       "      <td>1</td>\n",
       "      <td>1472830385</td>\n",
       "    </tr>\n",
       "    <tr>\n",
       "      <th>1</th>\n",
       "      <td>Organic Search</td>\n",
       "      <td>20160902</td>\n",
       "      <td>{\"browser\": \"Firefox\", \"browserVersion\": \"not ...</td>\n",
       "      <td>377306020877927890</td>\n",
       "      <td>{\"continent\": \"Oceania\", \"subContinent\": \"Aust...</td>\n",
       "      <td>377306020877927890_1472880147</td>\n",
       "      <td>Not Socially Engaged</td>\n",
       "      <td>{\"visits\": \"1\", \"hits\": \"1\", \"pageviews\": \"1\",...</td>\n",
       "      <td>{\"campaign\": \"(not set)\", \"source\": \"google\", ...</td>\n",
       "      <td>1472880147</td>\n",
       "      <td>1</td>\n",
       "      <td>1472880147</td>\n",
       "    </tr>\n",
       "    <tr>\n",
       "      <th>2</th>\n",
       "      <td>Organic Search</td>\n",
       "      <td>20160902</td>\n",
       "      <td>{\"browser\": \"Chrome\", \"browserVersion\": \"not a...</td>\n",
       "      <td>3895546263509774583</td>\n",
       "      <td>{\"continent\": \"Europe\", \"subContinent\": \"South...</td>\n",
       "      <td>3895546263509774583_1472865386</td>\n",
       "      <td>Not Socially Engaged</td>\n",
       "      <td>{\"visits\": \"1\", \"hits\": \"1\", \"pageviews\": \"1\",...</td>\n",
       "      <td>{\"campaign\": \"(not set)\", \"source\": \"google\", ...</td>\n",
       "      <td>1472865386</td>\n",
       "      <td>1</td>\n",
       "      <td>1472865386</td>\n",
       "    </tr>\n",
       "    <tr>\n",
       "      <th>3</th>\n",
       "      <td>Organic Search</td>\n",
       "      <td>20160902</td>\n",
       "      <td>{\"browser\": \"UC Browser\", \"browserVersion\": \"n...</td>\n",
       "      <td>4763447161404445595</td>\n",
       "      <td>{\"continent\": \"Asia\", \"subContinent\": \"Southea...</td>\n",
       "      <td>4763447161404445595_1472881213</td>\n",
       "      <td>Not Socially Engaged</td>\n",
       "      <td>{\"visits\": \"1\", \"hits\": \"1\", \"pageviews\": \"1\",...</td>\n",
       "      <td>{\"campaign\": \"(not set)\", \"source\": \"google\", ...</td>\n",
       "      <td>1472881213</td>\n",
       "      <td>1</td>\n",
       "      <td>1472881213</td>\n",
       "    </tr>\n",
       "    <tr>\n",
       "      <th>4</th>\n",
       "      <td>Organic Search</td>\n",
       "      <td>20160902</td>\n",
       "      <td>{\"browser\": \"Chrome\", \"browserVersion\": \"not a...</td>\n",
       "      <td>27294437909732085</td>\n",
       "      <td>{\"continent\": \"Europe\", \"subContinent\": \"North...</td>\n",
       "      <td>27294437909732085_1472822600</td>\n",
       "      <td>Not Socially Engaged</td>\n",
       "      <td>{\"visits\": \"1\", \"hits\": \"1\", \"pageviews\": \"1\",...</td>\n",
       "      <td>{\"campaign\": \"(not set)\", \"source\": \"google\", ...</td>\n",
       "      <td>1472822600</td>\n",
       "      <td>2</td>\n",
       "      <td>1472822600</td>\n",
       "    </tr>\n",
       "  </tbody>\n",
       "</table>\n",
       "</div>"
      ],
      "text/plain": [
       "  channelGrouping      date  \\\n",
       "0  Organic Search  20160902   \n",
       "1  Organic Search  20160902   \n",
       "2  Organic Search  20160902   \n",
       "3  Organic Search  20160902   \n",
       "4  Organic Search  20160902   \n",
       "\n",
       "                                              device        fullVisitorId  \\\n",
       "0  {\"browser\": \"Chrome\", \"browserVersion\": \"not a...  1131660440785968503   \n",
       "1  {\"browser\": \"Firefox\", \"browserVersion\": \"not ...   377306020877927890   \n",
       "2  {\"browser\": \"Chrome\", \"browserVersion\": \"not a...  3895546263509774583   \n",
       "3  {\"browser\": \"UC Browser\", \"browserVersion\": \"n...  4763447161404445595   \n",
       "4  {\"browser\": \"Chrome\", \"browserVersion\": \"not a...    27294437909732085   \n",
       "\n",
       "                                          geoNetwork  \\\n",
       "0  {\"continent\": \"Asia\", \"subContinent\": \"Western...   \n",
       "1  {\"continent\": \"Oceania\", \"subContinent\": \"Aust...   \n",
       "2  {\"continent\": \"Europe\", \"subContinent\": \"South...   \n",
       "3  {\"continent\": \"Asia\", \"subContinent\": \"Southea...   \n",
       "4  {\"continent\": \"Europe\", \"subContinent\": \"North...   \n",
       "\n",
       "                        sessionId  socialEngagementType  \\\n",
       "0  1131660440785968503_1472830385  Not Socially Engaged   \n",
       "1   377306020877927890_1472880147  Not Socially Engaged   \n",
       "2  3895546263509774583_1472865386  Not Socially Engaged   \n",
       "3  4763447161404445595_1472881213  Not Socially Engaged   \n",
       "4    27294437909732085_1472822600  Not Socially Engaged   \n",
       "\n",
       "                                              totals  \\\n",
       "0  {\"visits\": \"1\", \"hits\": \"1\", \"pageviews\": \"1\",...   \n",
       "1  {\"visits\": \"1\", \"hits\": \"1\", \"pageviews\": \"1\",...   \n",
       "2  {\"visits\": \"1\", \"hits\": \"1\", \"pageviews\": \"1\",...   \n",
       "3  {\"visits\": \"1\", \"hits\": \"1\", \"pageviews\": \"1\",...   \n",
       "4  {\"visits\": \"1\", \"hits\": \"1\", \"pageviews\": \"1\",...   \n",
       "\n",
       "                                       trafficSource     visitId  visitNumber  \\\n",
       "0  {\"campaign\": \"(not set)\", \"source\": \"google\", ...  1472830385            1   \n",
       "1  {\"campaign\": \"(not set)\", \"source\": \"google\", ...  1472880147            1   \n",
       "2  {\"campaign\": \"(not set)\", \"source\": \"google\", ...  1472865386            1   \n",
       "3  {\"campaign\": \"(not set)\", \"source\": \"google\", ...  1472881213            1   \n",
       "4  {\"campaign\": \"(not set)\", \"source\": \"google\", ...  1472822600            2   \n",
       "\n",
       "   visitStartTime  \n",
       "0      1472830385  \n",
       "1      1472880147  \n",
       "2      1472865386  \n",
       "3      1472881213  \n",
       "4      1472822600  "
      ]
     },
     "execution_count": 4,
     "metadata": {},
     "output_type": "execute_result"
    }
   ],
   "source": [
    "df.head()"
   ]
  },
  {
   "cell_type": "code",
   "execution_count": 5,
   "metadata": {},
   "outputs": [
    {
     "name": "stdout",
     "output_type": "stream",
     "text": [
      "<class 'pandas.core.frame.DataFrame'>\n",
      "RangeIndex: 50000 entries, 0 to 49999\n",
      "Data columns (total 12 columns):\n",
      "channelGrouping         50000 non-null object\n",
      "date                    50000 non-null int64\n",
      "device                  50000 non-null object\n",
      "fullVisitorId           50000 non-null object\n",
      "geoNetwork              50000 non-null object\n",
      "sessionId               50000 non-null object\n",
      "socialEngagementType    50000 non-null object\n",
      "totals                  50000 non-null object\n",
      "trafficSource           50000 non-null object\n",
      "visitId                 50000 non-null int64\n",
      "visitNumber             50000 non-null int64\n",
      "visitStartTime          50000 non-null int64\n",
      "dtypes: int64(4), object(8)\n",
      "memory usage: 4.6+ MB\n"
     ]
    }
   ],
   "source": [
    "df.info()"
   ]
  },
  {
   "cell_type": "markdown",
   "metadata": {},
   "source": [
    "## Looking at JSON columns\n",
    "\n",
    "I have no idea what all the fields are in these columns.  The good news is that missing values from these are assumed to be obvious; lack of a field means absence from the visit, if it's censored it will say so, these all should have been collected by automation.  Unfortunately, Kaggle decided against telling me the names of all possible fields, which I probably wanted before I decided on a schema.  So here is that part gdi. Maybe there was a more clever way to deal with these jsons than just enumerate all columns and fill those in ahead of time, but tht aint me"
   ]
  },
  {
   "cell_type": "code",
   "execution_count": 6,
   "metadata": {},
   "outputs": [],
   "source": [
    "import re"
   ]
  },
  {
   "cell_type": "code",
   "execution_count": 7,
   "metadata": {},
   "outputs": [
    {
     "data": {
      "text/plain": [
       "['campaign', 'source', 'medium', 'keyword', 'adwordsClickInfo']"
      ]
     },
     "execution_count": 7,
     "metadata": {},
     "output_type": "execute_result"
    }
   ],
   "source": [
    "[re.split('\\\"(w*)', string)[2] for string in df.iloc[5,:]['trafficSource'].split(',')]"
   ]
  },
  {
   "cell_type": "code",
   "execution_count": 8,
   "metadata": {},
   "outputs": [],
   "source": [
    "totals_fields = set()\n",
    "device_fields = set()\n",
    "geoNetwork_fields = set()\n",
    "trafficSource_fields = set()\n",
    "\n",
    "field_dict = {'device':device_fields, \n",
    "              'geoNetwork':geoNetwork_fields, \n",
    "              'totals':totals_fields, \n",
    "              'trafficSource':trafficSource_fields}"
   ]
  },
  {
   "cell_type": "markdown",
   "metadata": {},
   "source": [
    "When correctly formatted, we find the word in the second match group.  Sometimes, we have empty dictionaries, which will throw an error.  The current expression and index will give us the field names by inspection, and we assume JSONs will have a consistent output."
   ]
  },
  {
   "cell_type": "code",
   "execution_count": 9,
   "metadata": {},
   "outputs": [
    {
     "name": "stdout",
     "output_type": "stream",
     "text": [
      "RangeIndex(start=49999, stop=50000, step=1)\n",
      "RangeIndex(start=99999, stop=100000, step=1)\n",
      "RangeIndex(start=149999, stop=150000, step=1)\n",
      "RangeIndex(start=199999, stop=200000, step=1)\n",
      "RangeIndex(start=249999, stop=250000, step=1)\n",
      "RangeIndex(start=299999, stop=300000, step=1)\n",
      "RangeIndex(start=349999, stop=350000, step=1)\n",
      "RangeIndex(start=399999, stop=400000, step=1)\n",
      "RangeIndex(start=449999, stop=450000, step=1)\n",
      "RangeIndex(start=499999, stop=500000, step=1)\n",
      "RangeIndex(start=549999, stop=550000, step=1)\n",
      "RangeIndex(start=599999, stop=600000, step=1)\n",
      "RangeIndex(start=649999, stop=650000, step=1)\n",
      "RangeIndex(start=699999, stop=700000, step=1)\n",
      "RangeIndex(start=749999, stop=750000, step=1)\n",
      "RangeIndex(start=799999, stop=800000, step=1)\n",
      "RangeIndex(start=849999, stop=850000, step=1)\n",
      "RangeIndex(start=899999, stop=900000, step=1)\n",
      "RangeIndex(start=903652, stop=903653, step=1)\n"
     ]
    }
   ],
   "source": [
    "while len(df)>0:\n",
    "    for _, row in df.iterrows():\n",
    "        for field_name, field_set in field_dict.items():\n",
    "            try:\n",
    "                cur_fields = [re.split('\\\"(w*)', string)[2] for string in row[field_name].split(',')]\n",
    "                field_set.update(cur_fields)\n",
    "            except:\n",
    "                pass\n",
    "    print(df.tail(1).index)\n",
    "    try:\n",
    "        df = train.get_chunk()\n",
    "    except:\n",
    "        break"
   ]
  },
  {
   "cell_type": "code",
   "execution_count": 10,
   "metadata": {},
   "outputs": [
    {
     "data": {
      "text/plain": [
       "{'device': {'browser',\n",
       "  'browserSize',\n",
       "  'browserVersion',\n",
       "  'deviceCategory',\n",
       "  'flashVersion',\n",
       "  'isMobile',\n",
       "  'language',\n",
       "  'mobileDeviceBranding',\n",
       "  'mobileDeviceInfo',\n",
       "  'mobileDeviceMarketingName',\n",
       "  'mobileDeviceModel',\n",
       "  'mobileInputSelector',\n",
       "  'operatingSystem',\n",
       "  'operatingSystemVersion',\n",
       "  'screenColors',\n",
       "  'screenResolution'},\n",
       " 'geoNetwork': {'',\n",
       "  'city',\n",
       "  'cityId',\n",
       "  'continent',\n",
       "  'country',\n",
       "  'latitude',\n",
       "  'longitude',\n",
       "  'metro',\n",
       "  'networkDomain',\n",
       "  'networkLocation',\n",
       "  'region',\n",
       "  'subContinent'},\n",
       " 'totals': {'bounces',\n",
       "  'hits',\n",
       "  'newVisits',\n",
       "  'pageviews',\n",
       "  'transactionRevenue',\n",
       "  'visits'},\n",
       " 'trafficSource': {'',\n",
       "  'adContent',\n",
       "  'adNetworkType',\n",
       "  'adwordsClickInfo',\n",
       "  'campaign',\n",
       "  'campaignCode',\n",
       "  'criteriaParameters',\n",
       "  'gclId',\n",
       "  'isTrueDirect',\n",
       "  'isVideoAd',\n",
       "  'keyword',\n",
       "  'medium',\n",
       "  'referralPath',\n",
       "  'slot',\n",
       "  'source',\n",
       "  'targetingCriteria'}}"
      ]
     },
     "execution_count": 10,
     "metadata": {},
     "output_type": "execute_result"
    }
   ],
   "source": [
    "field_dict"
   ]
  },
  {
   "cell_type": "markdown",
   "metadata": {},
   "source": [
    "To be fair, we should also examine the test data."
   ]
  },
  {
   "cell_type": "code",
   "execution_count": 13,
   "metadata": {},
   "outputs": [],
   "source": [
    "test = pd.read_csv('./data/test.csv', chunksize=50000)"
   ]
  },
  {
   "cell_type": "code",
   "execution_count": 16,
   "metadata": {},
   "outputs": [],
   "source": [
    "df = test.get_chunk()"
   ]
  },
  {
   "cell_type": "code",
   "execution_count": 14,
   "metadata": {},
   "outputs": [],
   "source": [
    "totals_fields_test = set()\n",
    "device_fields_test = set()\n",
    "geoNetwork_fields_test = set()\n",
    "trafficSource_fields_test = set()\n",
    "\n",
    "field_dict_test = {'device':device_fields_test, \n",
    "              'geoNetwork':geoNetwork_fields_test, \n",
    "              'totals':totals_fields_test, \n",
    "              'trafficSource':trafficSource_fields_test}"
   ]
  },
  {
   "cell_type": "code",
   "execution_count": 17,
   "metadata": {},
   "outputs": [
    {
     "name": "stdout",
     "output_type": "stream",
     "text": [
      "RangeIndex(start=49999, stop=50000, step=1)\n",
      "RangeIndex(start=99999, stop=100000, step=1)\n",
      "RangeIndex(start=149999, stop=150000, step=1)\n",
      "RangeIndex(start=199999, stop=200000, step=1)\n",
      "RangeIndex(start=249999, stop=250000, step=1)\n",
      "RangeIndex(start=299999, stop=300000, step=1)\n",
      "RangeIndex(start=349999, stop=350000, step=1)\n",
      "RangeIndex(start=399999, stop=400000, step=1)\n",
      "RangeIndex(start=449999, stop=450000, step=1)\n",
      "RangeIndex(start=499999, stop=500000, step=1)\n",
      "RangeIndex(start=549999, stop=550000, step=1)\n",
      "RangeIndex(start=599999, stop=600000, step=1)\n",
      "RangeIndex(start=649999, stop=650000, step=1)\n",
      "RangeIndex(start=699999, stop=700000, step=1)\n",
      "RangeIndex(start=749999, stop=750000, step=1)\n",
      "RangeIndex(start=799999, stop=800000, step=1)\n",
      "RangeIndex(start=804683, stop=804684, step=1)\n"
     ]
    }
   ],
   "source": [
    "while len(df)>0:\n",
    "    for _, row in df.iterrows():\n",
    "        for field_name, field_set in field_dict_test.items():\n",
    "            try:\n",
    "                cur_fields = [re.split('\\\"(w*)', string)[2] for string in row[field_name].split(',')]\n",
    "                field_set.update(cur_fields)\n",
    "            except:\n",
    "                pass\n",
    "    print(df.tail(1).index)\n",
    "    try:\n",
    "        df = test.get_chunk()\n",
    "    except:\n",
    "        break"
   ]
  },
  {
   "cell_type": "code",
   "execution_count": 18,
   "metadata": {},
   "outputs": [
    {
     "data": {
      "text/plain": [
       "{'device': {'browser',\n",
       "  'browserSize',\n",
       "  'browserVersion',\n",
       "  'deviceCategory',\n",
       "  'flashVersion',\n",
       "  'isMobile',\n",
       "  'language',\n",
       "  'mobileDeviceBranding',\n",
       "  'mobileDeviceInfo',\n",
       "  'mobileDeviceMarketingName',\n",
       "  'mobileDeviceModel',\n",
       "  'mobileInputSelector',\n",
       "  'operatingSystem',\n",
       "  'operatingSystemVersion',\n",
       "  'screenColors',\n",
       "  'screenResolution'},\n",
       " 'geoNetwork': {'',\n",
       "  'city',\n",
       "  'cityId',\n",
       "  'continent',\n",
       "  'country',\n",
       "  'latitude',\n",
       "  'longitude',\n",
       "  'metro',\n",
       "  'networkDomain',\n",
       "  'networkLocation',\n",
       "  'region',\n",
       "  'subContinent'},\n",
       " 'totals': {'bounces', 'hits', 'newVisits', 'pageviews', 'visits'},\n",
       " 'trafficSource': {'',\n",
       "  'adContent',\n",
       "  'adNetworkType',\n",
       "  'adwordsClickInfo',\n",
       "  'campaign',\n",
       "  'criteriaParameters',\n",
       "  'gclId',\n",
       "  'isTrueDirect',\n",
       "  'isVideoAd',\n",
       "  'keyword',\n",
       "  'medium',\n",
       "  'referralPath',\n",
       "  'slot',\n",
       "  'source',\n",
       "  'targetingCriteria'}}"
      ]
     },
     "execution_count": 18,
     "metadata": {},
     "output_type": "execute_result"
    }
   ],
   "source": [
    "field_dict_test"
   ]
  },
  {
   "cell_type": "code",
   "execution_count": 26,
   "metadata": {},
   "outputs": [
    {
     "name": "stdout",
     "output_type": "stream",
     "text": [
      "set()\n",
      "set()\n",
      "{'transactionRevenue'}\n",
      "{'campaignCode'}\n"
     ]
    }
   ],
   "source": [
    "for key in field_dict:\n",
    "    print(field_dict[key].symmetric_difference(field_dict_test[key]))"
   ]
  },
  {
   "cell_type": "markdown",
   "metadata": {},
   "source": [
    "The test set introduces no new columns at least.  We can go ahead and make new columns, barring advice that this is a dumb idea."
   ]
  },
  {
   "cell_type": "code",
   "execution_count": null,
   "metadata": {},
   "outputs": [],
   "source": []
  }
 ],
 "metadata": {
  "kernelspec": {
   "display_name": "Python 3",
   "language": "python",
   "name": "python3"
  },
  "language_info": {
   "codemirror_mode": {
    "name": "ipython",
    "version": 3
   },
   "file_extension": ".py",
   "mimetype": "text/x-python",
   "name": "python",
   "nbconvert_exporter": "python",
   "pygments_lexer": "ipython3",
   "version": "3.6.5"
  }
 },
 "nbformat": 4,
 "nbformat_minor": 2
}
